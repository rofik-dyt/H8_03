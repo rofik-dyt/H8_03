{
  "nbformat": 4,
  "nbformat_minor": 0,
  "metadata": {
    "colab": {
      "name": "Kampus Merdeka session 2.ipynb",
      "provenance": [],
      "collapsed_sections": []
    },
    "kernelspec": {
      "name": "python3",
      "display_name": "Python 3"
    },
    "language_info": {
      "name": "python"
    }
  },
  "cells": [
    {
      "cell_type": "code",
      "metadata": {
        "id": "UJFx56pyW5vm"
      },
      "source": [
        "# condition\n",
        "# equals a == b\n",
        "# not equals a != b\n",
        "# more than a > b\n",
        "# lest than a < b\n",
        "# more than equals a >= b\n",
        "# less than equals a <= b\n",
        "\n",
        "#if <condition> :\n",
        "#  execution\n",
        "#else:"
      ],
      "execution_count": null,
      "outputs": []
    },
    {
      "cell_type": "code",
      "metadata": {
        "colab": {
          "base_uri": "https://localhost:8080/"
        },
        "id": "7FzMIPbeYEce",
        "outputId": "b3f79e91-5b0b-42bb-83eb-b607699e57de"
      },
      "source": [
        "b = 20\n",
        "\n",
        "a = int(input('please input '))\n",
        "\n",
        "if a == b :\n",
        "  print('equal')\n",
        "else:\n",
        "  print('not eq')"
      ],
      "execution_count": 3,
      "outputs": [
        {
          "output_type": "stream",
          "text": [
            "please input 2\n",
            "not eq\n"
          ],
          "name": "stdout"
        }
      ]
    },
    {
      "cell_type": "code",
      "metadata": {
        "colab": {
          "base_uri": "https://localhost:8080/"
        },
        "id": "J-jsXHJAZjw9",
        "outputId": "77e255b2-e6d0-4573-cc9e-725311dd1ef2"
      },
      "source": [
        "myage = 0\n",
        "adultTreshold = 18\n",
        "\n",
        "myage = int(input('please input number'))\n",
        "\n",
        "if myage >= adultTreshold :\n",
        "  print(\"You are adult\")\n",
        "  print(\"lets drink\")\n",
        "\n",
        "else:\n",
        "  yearsToAdult = adultTreshold - myage\n",
        "  print('you are under age lets wait {} more years'.format(yearsToAdult))\n",
        "\n",
        "print('di luar scope if')"
      ],
      "execution_count": 9,
      "outputs": [
        {
          "output_type": "stream",
          "text": [
            "please input number20\n",
            "You are adult\n",
            "lets drink\n",
            "di luar scope if\n"
          ],
          "name": "stdout"
        }
      ]
    },
    {
      "cell_type": "code",
      "metadata": {
        "colab": {
          "base_uri": "https://localhost:8080/"
        },
        "id": "lOkdpumDYxO8",
        "outputId": "30df0100-0e93-4b2e-8468-e5e24f2827fc"
      },
      "source": [
        "userInput = float(input('please input number '))\n",
        "\n",
        "if userInput < 30 :\n",
        "  print(\"E\")\n",
        "elif userInput < 50 :\n",
        "  print(\"D\")\n",
        "elif userInput <= 70 :\n",
        "  print(\"C\")\n",
        "elif userInput <= 90 :\n",
        "  print(\"B\")\n",
        "else:\n",
        "  print(\"A\")"
      ],
      "execution_count": 21,
      "outputs": [
        {
          "output_type": "stream",
          "text": [
            "please input number 50\n",
            "C\n"
          ],
          "name": "stdout"
        }
      ]
    },
    {
      "cell_type": "code",
      "metadata": {
        "colab": {
          "base_uri": "https://localhost:8080/"
        },
        "id": "3dmqYov8cjQC",
        "outputId": "0a08d6f5-5c91-4560-969c-b544bfb7a9d3"
      },
      "source": [
        "i = 0\n",
        "while i <= 10:\n",
        "  print('perulangan ke', i)\n",
        "  i += 1"
      ],
      "execution_count": 32,
      "outputs": [
        {
          "output_type": "stream",
          "text": [
            "perulangan ke 0\n",
            "perulangan ke 1\n",
            "perulangan ke 2\n",
            "perulangan ke 3\n",
            "perulangan ke 4\n",
            "perulangan ke 5\n",
            "perulangan ke 6\n",
            "perulangan ke 7\n",
            "perulangan ke 8\n",
            "perulangan ke 9\n",
            "perulangan ke 10\n"
          ],
          "name": "stdout"
        }
      ]
    },
    {
      "cell_type": "code",
      "metadata": {
        "id": "A6TwgD7RhfMZ"
      },
      "source": [
        "nilaiStr = ''\n",
        "while nilaiStr != 'exit':\n",
        "  nilaiStr = input('masukan nilai ')\n",
        "  if not nilaiStr.isnumeric(); break;\n",
        "\n",
        "  nilai = int(nilaiStr)\n",
        "  if nilai > 90:\n",
        "    print ('A')\n",
        "  elif "
      ],
      "execution_count": null,
      "outputs": []
    },
    {
      "cell_type": "code",
      "metadata": {
        "colab": {
          "base_uri": "https://localhost:8080/"
        },
        "id": "XewfpKhPk22B",
        "outputId": "1d73e07f-d474-4b34-c950-7b4a17a2f780"
      },
      "source": [
        "angka = int(input('masukkan angka '))\n",
        "out = 0\n",
        "\n",
        "for x in range (angka):\n",
        "  if x % 2 == 0 :\n",
        "    out += x\n",
        "print (out)"
      ],
      "execution_count": 88,
      "outputs": [
        {
          "output_type": "stream",
          "text": [
            "masukkan angka 7\n",
            "12\n"
          ],
          "name": "stdout"
        }
      ]
    },
    {
      "cell_type": "code",
      "metadata": {
        "colab": {
          "base_uri": "https://localhost:8080/"
        },
        "id": "7UAKNPZuoNXI",
        "outputId": "84c17439-2e75-4483-bc32-840af0567e19"
      },
      "source": [
        "angka = int(input('masukkan angka '))\n",
        "out = 0\n",
        "out = [out + x for x in range (angka) if x % 2 == 0]\n",
        "print (sum(out))"
      ],
      "execution_count": 96,
      "outputs": [
        {
          "output_type": "stream",
          "text": [
            "masukkan angka 7\n",
            "12\n"
          ],
          "name": "stdout"
        }
      ]
    },
    {
      "cell_type": "code",
      "metadata": {
        "id": "jYTFYoGTmp9J"
      },
      "source": [
        "import random\n",
        "\n",
        "while True:\n",
        "    angkaRand = random.randint(0,10)\n",
        "    print(angkaRand)\n",
        "    angka = int(input('masukkan angka 1 sampai 10'))\n",
        "    if angka ==  angkaRand: break;"
      ],
      "execution_count": null,
      "outputs": []
    },
    {
      "cell_type": "code",
      "metadata": {
        "colab": {
          "base_uri": "https://localhost:8080/"
        },
        "id": "_2TXK4P0sGXS",
        "outputId": "d749227e-4c19-4b24-a99b-9ae4a134156a"
      },
      "source": [
        "# 1 2 3\n",
        "# 1 2 3\n",
        "# 1 2 3\n",
        "\n",
        "row = 3\n",
        "col = 3\n",
        "i = 0\n",
        "disp = ''\n",
        "while i < row :\n",
        "  j = 0\n",
        "  while j < col:\n",
        "    disp = disp + str(i) + \",\" + str(j) + \" \"\n",
        "    j+=1\n",
        "  disp += \"\\n\"\n",
        "  i+=1\n",
        "print(disp)"
      ],
      "execution_count": 76,
      "outputs": [
        {
          "output_type": "stream",
          "text": [
            "0,0 0,1 0,2 \n",
            "1,0 1,1 1,2 \n",
            "2,0 2,1 2,2 \n",
            "\n"
          ],
          "name": "stdout"
        }
      ]
    },
    {
      "cell_type": "code",
      "metadata": {
        "colab": {
          "base_uri": "https://localhost:8080/"
        },
        "id": "H1sypSkzs2AL",
        "outputId": "238ab6d7-fbca-4bdb-8ecb-d21b9962f3dd"
      },
      "source": [
        "disp = ''\n",
        "i = 1\n",
        "while i <= 5 :\n",
        "  j = i\n",
        "  while j > 0:\n",
        "    disp = disp + \"*\"\n",
        "    j-=1\n",
        "  disp += \"\\n\"\n",
        "  i+=1\n",
        "print(disp)"
      ],
      "execution_count": 77,
      "outputs": [
        {
          "output_type": "stream",
          "text": [
            "*\n",
            "**\n",
            "***\n",
            "****\n",
            "*****\n",
            "\n"
          ],
          "name": "stdout"
        }
      ]
    },
    {
      "cell_type": "code",
      "metadata": {
        "colab": {
          "base_uri": "https://localhost:8080/"
        },
        "id": "nMJcDAwXzNbb",
        "outputId": "79780195-dc2c-4bb2-d656-8bdaa5cb7d0e"
      },
      "source": [
        "row = 5\n",
        "i = 0\n",
        "disp = \"\"\n",
        "while i < row :\n",
        "  col = i + 1\n",
        "  j = 0\n",
        "  while j < col:\n",
        "    disp += \"*\"\n",
        "    j+=1\n",
        "  disp += \"\\n\"\n",
        "  i+=1\n",
        "print(disp)"
      ],
      "execution_count": 81,
      "outputs": [
        {
          "output_type": "stream",
          "text": [
            "*\n",
            "**\n",
            "***\n",
            "****\n",
            "*****\n",
            "\n"
          ],
          "name": "stdout"
        }
      ]
    },
    {
      "cell_type": "code",
      "metadata": {
        "colab": {
          "base_uri": "https://localhost:8080/"
        },
        "id": "YO27G7NQ2Wko",
        "outputId": "c8c7deae-9fb9-4027-e2d6-6ca2ded6a509"
      },
      "source": [
        "myHobbies = [\"makan\", \"nonton\"]\n",
        "\n",
        "for hobby in myHobbies:\n",
        "  print(hobby)"
      ],
      "execution_count": 97,
      "outputs": [
        {
          "output_type": "stream",
          "text": [
            "makan\n",
            "nonton\n"
          ],
          "name": "stdout"
        }
      ]
    },
    {
      "cell_type": "code",
      "metadata": {
        "colab": {
          "base_uri": "https://localhost:8080/"
        },
        "id": "SFECqVih3M7s",
        "outputId": "195b928c-b94e-4ad1-c3db-3f9ee0606b09"
      },
      "source": [
        "for i in range(5):\n",
        "  print('====',i)"
      ],
      "execution_count": 98,
      "outputs": [
        {
          "output_type": "stream",
          "text": [
            "==== 0\n",
            "==== 1\n",
            "==== 2\n",
            "==== 3\n",
            "==== 4\n"
          ],
          "name": "stdout"
        }
      ]
    },
    {
      "cell_type": "code",
      "metadata": {
        "colab": {
          "base_uri": "https://localhost:8080/"
        },
        "id": "d1S449KJ3Tr2",
        "outputId": "5cb0a6d7-d887-4074-f0f6-8be62c846c6d"
      },
      "source": [
        "myDict = {'nama': 'rofik','umur':00,'pekerjaan':'coder'}\n",
        "\n",
        "for key in myDict:\n",
        "  if(key == \"umur\"): break;\n",
        "  print(key, myDict[key])\n",
        "print(\"============\")\n",
        "for key in myDict:\n",
        "  if(key == \"umur\"): continue;\n",
        "  print(key, myDict[key])"
      ],
      "execution_count": 101,
      "outputs": [
        {
          "output_type": "stream",
          "text": [
            "nama rofik\n",
            "============\n",
            "nama rofik\n",
            "pekerjaan coder\n"
          ],
          "name": "stdout"
        }
      ]
    },
    {
      "cell_type": "code",
      "metadata": {
        "colab": {
          "base_uri": "https://localhost:8080/"
        },
        "id": "AOhTaS7W4Mxt",
        "outputId": "d760e144-e79d-45ea-82c8-f3938dfc34b1"
      },
      "source": [
        "myDict = {'nama': '','umur':0,'pekerjaan':'','hobbies':[]}\n",
        "\n",
        "for key in myDict:\n",
        "  if(key == 'hobbies'):\n",
        "    userInput = \"\"\n",
        "    while userInput != \"stop\":\n",
        "      userInput = input('masukkan {} jika sudah masukan stop'.format(key))\n",
        "      if userInput != \"stop\":\n",
        "        myDict[key].append(userInput)\n",
        "\n",
        "  else:\n",
        "    userInput = userInput = input('masukkan {} jika sudah masukan stop'.format(key))\n",
        "    myDict[key] = userInput\n",
        "\n",
        "print(myDict)"
      ],
      "execution_count": 113,
      "outputs": [
        {
          "output_type": "stream",
          "text": [
            "masukkan nama jika sudah masukan stoprofik\n",
            "masukkan umur jika sudah masukan stop00\n",
            "masukkan pekerjaan jika sudah masukan stopcoder\n",
            "masukkan hobbies jika sudah masukan stopdunno\n",
            "masukkan hobbies jika sudah masukan stopsomething meaningless :v\n",
            "masukkan hobbies jika sudah masukan stopstop\n",
            "{'nama': 'rofik', 'umur': '00', 'pekerjaan': 'coder', 'hobbies': ['dunno', 'something meaningless :v']}\n"
          ],
          "name": "stdout"
        }
      ]
    }
  ]
}