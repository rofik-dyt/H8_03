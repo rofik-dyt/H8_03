{
  "nbformat": 4,
  "nbformat_minor": 0,
  "metadata": {
    "colab": {
      "name": "Untitled2.ipynb",
      "provenance": []
    },
    "kernelspec": {
      "name": "python3",
      "display_name": "Python 3"
    },
    "language_info": {
      "name": "python"
    }
  },
  "cells": [
    {
      "cell_type": "code",
      "metadata": {
        "colab": {
          "base_uri": "https://localhost:8080/"
        },
        "id": "X-xqVMNzHjmH",
        "outputId": "72dd749a-6471-4f52-bcea-4cd6bfcf039b"
      },
      "source": [
        "def functiontest ():\n",
        "  print(\"function test\")\n",
        "print(\"out of scope\")\n",
        "functiontest()"
      ],
      "execution_count": 2,
      "outputs": [
        {
          "output_type": "stream",
          "text": [
            "out of scope\n",
            "function test\n"
          ],
          "name": "stdout"
        }
      ]
    },
    {
      "cell_type": "code",
      "metadata": {
        "colab": {
          "base_uri": "https://localhost:8080/"
        },
        "id": "osVn0RyjIH_l",
        "outputId": "c679fcc8-336b-4047-a833-119748cd427f"
      },
      "source": [
        "myInt = 1\n",
        "myFloat = 1.0\n",
        "\n",
        "print(myInt)\n",
        "print(myInt/2)"
      ],
      "execution_count": 3,
      "outputs": [
        {
          "output_type": "stream",
          "text": [
            "1\n",
            "0.5\n"
          ],
          "name": "stdout"
        }
      ]
    },
    {
      "cell_type": "code",
      "metadata": {
        "colab": {
          "base_uri": "https://localhost:8080/"
        },
        "id": "p17YvT24IV-e",
        "outputId": "c6b3fcc0-42d7-4fac-a0ea-8d920332e671"
      },
      "source": [
        "myInt = 2\n",
        "type(myFloat)\n",
        "print(type(myFloat))\n",
        "print(type(myInt))"
      ],
      "execution_count": 10,
      "outputs": [
        {
          "output_type": "stream",
          "text": [
            "<class 'float'>\n",
            "<class 'int'>\n"
          ],
          "name": "stdout"
        }
      ]
    },
    {
      "cell_type": "code",
      "metadata": {
        "colab": {
          "base_uri": "https://localhost:8080/"
        },
        "id": "BIlUNzB5Igv3",
        "outputId": "12c08161-c4e5-4bdb-a0d9-20b88f2f578a"
      },
      "source": [
        "myString = 'this is my string'\n",
        "print(myInt * myString)"
      ],
      "execution_count": 11,
      "outputs": [
        {
          "output_type": "stream",
          "text": [
            "this is my stringthis is my string\n"
          ],
          "name": "stdout"
        }
      ]
    },
    {
      "cell_type": "code",
      "metadata": {
        "colab": {
          "base_uri": "https://localhost:8080/"
        },
        "id": "MtludryAI9_D",
        "outputId": "e62578c7-884d-40d8-ceab-c0c795dcd7fe"
      },
      "source": [
        "myBool = False\n",
        "myCompare = myInt == myFloat\n",
        "\n",
        "print(type(myBool))\n",
        "print(type(myCompare))"
      ],
      "execution_count": 12,
      "outputs": [
        {
          "output_type": "stream",
          "text": [
            "<class 'bool'>\n",
            "<class 'bool'>\n"
          ],
          "name": "stdout"
        }
      ]
    },
    {
      "cell_type": "code",
      "metadata": {
        "colab": {
          "base_uri": "https://localhost:8080/"
        },
        "id": "o30UcM-cJM3o",
        "outputId": "1f2b7ef3-c54c-4fe7-eee6-991a0346712c"
      },
      "source": [
        "a=b=c=d=6\n",
        "print(a,b,c,d)"
      ],
      "execution_count": 13,
      "outputs": [
        {
          "output_type": "stream",
          "text": [
            "6 6 6 6\n"
          ],
          "name": "stdout"
        }
      ]
    },
    {
      "cell_type": "code",
      "metadata": {
        "colab": {
          "base_uri": "https://localhost:8080/"
        },
        "id": "tZvvHWipJRgV",
        "outputId": "25e68761-95da-4004-924c-04c013a5e068"
      },
      "source": [
        "a,b=[1,2]\n",
        "print(a, b)"
      ],
      "execution_count": 14,
      "outputs": [
        {
          "output_type": "stream",
          "text": [
            "1 2\n"
          ],
          "name": "stdout"
        }
      ]
    },
    {
      "cell_type": "code",
      "metadata": {
        "id": "nNHrLPyLJX-r"
      },
      "source": [
        "myVariable = 'ini my variable'\n",
        "\n",
        "myChildAge = 'camel case'\n",
        "myChildAge = 'pascal case'\n",
        "my_child_age = 'snake case'"
      ],
      "execution_count": null,
      "outputs": []
    },
    {
      "cell_type": "code",
      "metadata": {
        "colab": {
          "base_uri": "https://localhost:8080/"
        },
        "id": "N3w5r_ixKZlN",
        "outputId": "19271210-d7c7-4b6b-b3c0-d7b9f08df955"
      },
      "source": [
        "myFistNumber = 10\n",
        "mySecondNumber = 3\n",
        "\n",
        "print(myFistNumber + mySecondNumber)\n",
        "print(myFistNumber - mySecondNumber)\n",
        "print(myFistNumber * mySecondNumber)\n",
        "print(myFistNumber / mySecondNumber)\n",
        "print(myFistNumber % mySecondNumber)\n",
        "print(myFistNumber ** mySecondNumber)"
      ],
      "execution_count": 15,
      "outputs": [
        {
          "output_type": "stream",
          "text": [
            "13\n",
            "7\n",
            "30\n",
            "3.3333333333333335\n",
            "1\n",
            "1000\n"
          ],
          "name": "stdout"
        }
      ]
    },
    {
      "cell_type": "code",
      "metadata": {
        "colab": {
          "base_uri": "https://localhost:8080/"
        },
        "id": "zlz-QpZfKsQO",
        "outputId": "00d6d627-9675-41ef-b9be-00377ddae034"
      },
      "source": [
        "hello = 'hello'\n",
        "name = 'name'\n",
        "name2 = 'name'\n",
        "\n",
        "print(hello + name)"
      ],
      "execution_count": 20,
      "outputs": [
        {
          "output_type": "stream",
          "text": [
            "helloname\n"
          ],
          "name": "stdout"
        }
      ]
    },
    {
      "cell_type": "code",
      "metadata": {
        "colab": {
          "base_uri": "https://localhost:8080/"
        },
        "id": "vwwkSCcPLBQb",
        "outputId": "a679cd75-b9ee-400e-9e26-24a963000da3"
      },
      "source": [
        "print(hello == name)\n",
        "print(name2 == name)\n",
        "print(name2 > name)\n",
        "print(name2 >= name)\n",
        "print(name2 != name)\n",
        "print(name2 <= name)\n",
        "print(name2 < name)\n",
        "\n",
        "isSameName = name == name2\n",
        "if(isSameName):\n",
        "  print('name and name2 have same value')"
      ],
      "execution_count": 21,
      "outputs": [
        {
          "output_type": "stream",
          "text": [
            "False\n",
            "True\n",
            "False\n",
            "True\n",
            "False\n",
            "True\n",
            "False\n",
            "name and name2 have same value\n"
          ],
          "name": "stdout"
        }
      ]
    },
    {
      "cell_type": "code",
      "metadata": {
        "id": "97qGtp3yLnK0"
      },
      "source": [
        "mytestVar = 1"
      ],
      "execution_count": 22,
      "outputs": []
    },
    {
      "cell_type": "code",
      "metadata": {
        "colab": {
          "base_uri": "https://localhost:8080/",
          "height": 35
        },
        "id": "Wx7P_wlrLvk8",
        "outputId": "9a926c4c-ddc6-4d8f-877b-265c6821ba98"
      },
      "source": [
        "str(mytestVar)"
      ],
      "execution_count": 23,
      "outputs": [
        {
          "output_type": "execute_result",
          "data": {
            "application/vnd.google.colaboratory.intrinsic+json": {
              "type": "string"
            },
            "text/plain": [
              "'1'"
            ]
          },
          "metadata": {},
          "execution_count": 23
        }
      ]
    },
    {
      "cell_type": "code",
      "metadata": {
        "id": "ZtXGpeUdLyQv"
      },
      "source": [
        "mytestString = 'nama saya budi' "
      ],
      "execution_count": 24,
      "outputs": []
    },
    {
      "cell_type": "code",
      "metadata": {
        "colab": {
          "base_uri": "https://localhost:8080/",
          "height": 35
        },
        "id": "XzqoiALdL7M8",
        "outputId": "3d57a57c-f415-464c-fb8a-a533f757f795"
      },
      "source": [
        "mytestString.capitalize()"
      ],
      "execution_count": 25,
      "outputs": [
        {
          "output_type": "execute_result",
          "data": {
            "application/vnd.google.colaboratory.intrinsic+json": {
              "type": "string"
            },
            "text/plain": [
              "'Nama saya budi'"
            ]
          },
          "metadata": {},
          "execution_count": 25
        }
      ]
    },
    {
      "cell_type": "code",
      "metadata": {
        "colab": {
          "base_uri": "https://localhost:8080/"
        },
        "id": "SBxsU-eIMEwh",
        "outputId": "585060d5-f93b-4fff-df38-7b867c8932fb"
      },
      "source": [
        "myModifyStr = mytestString.split(' ')\n",
        "print(myModifyStr)\n",
        "print(mytestString)"
      ],
      "execution_count": 26,
      "outputs": [
        {
          "output_type": "stream",
          "text": [
            "['nama', 'saya', 'budi']\n",
            "nama saya budi\n"
          ],
          "name": "stdout"
        }
      ]
    },
    {
      "cell_type": "code",
      "metadata": {
        "colab": {
          "base_uri": "https://localhost:8080/"
        },
        "id": "3jbVkvUiMdX2",
        "outputId": "64665d87-3d20-4cd7-8d2a-fd9a51e69371"
      },
      "source": [
        "myName = input('enter name ')\n",
        "print('my name is ', myName)"
      ],
      "execution_count": 28,
      "outputs": [
        {
          "output_type": "stream",
          "text": [
            "enter name aku\n",
            "my name is  aku\n"
          ],
          "name": "stdout"
        }
      ]
    },
    {
      "cell_type": "code",
      "metadata": {
        "id": "r9WZtawkMdsZ"
      },
      "source": [
        "myList2 = [1,\"dua\",3,\"empat\"]\n",
        "myList2 = [1,[2], [3,4]]"
      ],
      "execution_count": 32,
      "outputs": []
    },
    {
      "cell_type": "code",
      "metadata": {
        "colab": {
          "base_uri": "https://localhost:8080/"
        },
        "id": "K1a6buYENQQE",
        "outputId": "0fd17386-6fe1-4a69-cd06-d2bd84380ced"
      },
      "source": [
        "myList2[1]"
      ],
      "execution_count": 33,
      "outputs": [
        {
          "output_type": "execute_result",
          "data": {
            "text/plain": [
              "[2]"
            ]
          },
          "metadata": {},
          "execution_count": 33
        }
      ]
    },
    {
      "cell_type": "code",
      "metadata": {
        "colab": {
          "base_uri": "https://localhost:8080/"
        },
        "id": "UhX1K-5aNbZG",
        "outputId": "af1a3b72-9f5e-4dd4-e536-9f8bd052db48"
      },
      "source": [
        "my3List = myList2[2]\n",
        "my3List"
      ],
      "execution_count": 35,
      "outputs": [
        {
          "output_type": "execute_result",
          "data": {
            "text/plain": [
              "[3, 4]"
            ]
          },
          "metadata": {},
          "execution_count": 35
        }
      ]
    },
    {
      "cell_type": "code",
      "metadata": {
        "colab": {
          "base_uri": "https://localhost:8080/"
        },
        "id": "ChUjOCEqVOfw",
        "outputId": "329718e4-80ce-47f7-94b5-7f7261aad927"
      },
      "source": [
        "myUpsideList = [10,9,8]\n",
        "myUpsideList.sort()\n",
        "myUpsideList.count(9)"
      ],
      "execution_count": 36,
      "outputs": [
        {
          "output_type": "execute_result",
          "data": {
            "text/plain": [
              "1"
            ]
          },
          "metadata": {},
          "execution_count": 36
        }
      ]
    },
    {
      "cell_type": "code",
      "metadata": {
        "colab": {
          "base_uri": "https://localhost:8080/"
        },
        "id": "0NiPJs58W12M",
        "outputId": "1ffc39e6-9e62-485b-dd9f-194e58e0ad79"
      },
      "source": [
        "len(myUpsideList)"
      ],
      "execution_count": 37,
      "outputs": [
        {
          "output_type": "execute_result",
          "data": {
            "text/plain": [
              "3"
            ]
          },
          "metadata": {},
          "execution_count": 37
        }
      ]
    },
    {
      "cell_type": "code",
      "metadata": {
        "colab": {
          "base_uri": "https://localhost:8080/"
        },
        "id": "ksWd0JhNXxGT",
        "outputId": "cd063c56-b0dd-4c13-bcef-197d79b39cf3"
      },
      "source": [
        "print(min(myUpsideList))\n",
        "print(max(myUpsideList))"
      ],
      "execution_count": 38,
      "outputs": [
        {
          "output_type": "stream",
          "text": [
            "8\n",
            "10\n"
          ],
          "name": "stdout"
        }
      ]
    },
    {
      "cell_type": "code",
      "metadata": {
        "colab": {
          "base_uri": "https://localhost:8080/"
        },
        "id": "IPDHcWFfX3BA",
        "outputId": "0d48d5e5-2f80-4498-d600-dc8e6733b98c"
      },
      "source": [
        "myUpsideList = [10,9,8]\n",
        "myUpsideList.sort()\n",
        "myUpsideList.append(6)\n",
        "print(myUpsideList)"
      ],
      "execution_count": 39,
      "outputs": [
        {
          "output_type": "stream",
          "text": [
            "[8, 9, 10, 6]\n"
          ],
          "name": "stdout"
        }
      ]
    },
    {
      "cell_type": "code",
      "metadata": {
        "id": "mYDoKtZ7YCsw"
      },
      "source": [
        "myUpsideList[3]=7"
      ],
      "execution_count": 40,
      "outputs": []
    },
    {
      "cell_type": "code",
      "metadata": {
        "colab": {
          "base_uri": "https://localhost:8080/"
        },
        "id": "PEItOsD4Yb45",
        "outputId": "a10969ef-ba20-49c5-e8ef-969dc9c6f02d"
      },
      "source": [
        "myUpsideList"
      ],
      "execution_count": 41,
      "outputs": [
        {
          "output_type": "execute_result",
          "data": {
            "text/plain": [
              "[8, 9, 10, 7]"
            ]
          },
          "metadata": {},
          "execution_count": 41
        }
      ]
    },
    {
      "cell_type": "code",
      "metadata": {
        "id": "jkgbMS8oYeJ9"
      },
      "source": [
        "myList = [10,9,8,6,7]"
      ],
      "execution_count": 42,
      "outputs": []
    },
    {
      "cell_type": "code",
      "metadata": {
        "colab": {
          "base_uri": "https://localhost:8080/"
        },
        "id": "mA5ASyy3Yiio",
        "outputId": "78a47556-036e-42b2-9cac-b54b29884591"
      },
      "source": [
        "existVal = myList[3]\n",
        "myList[3] = myList[4]\n",
        "myList[4] = existVal\n",
        "myList"
      ],
      "execution_count": 43,
      "outputs": [
        {
          "output_type": "execute_result",
          "data": {
            "text/plain": [
              "[10, 9, 8, 7, 6]"
            ]
          },
          "metadata": {},
          "execution_count": 43
        }
      ]
    },
    {
      "cell_type": "code",
      "metadata": {
        "colab": {
          "base_uri": "https://localhost:8080/"
        },
        "id": "h0EWWGceYzf4",
        "outputId": "0043bfd9-356b-4242-c603-78aeeb2564de"
      },
      "source": [
        "myList[1:4]=[2,3,4,5]\n",
        "myList"
      ],
      "execution_count": 44,
      "outputs": [
        {
          "output_type": "execute_result",
          "data": {
            "text/plain": [
              "[10, 2, 3, 4, 5, 6]"
            ]
          },
          "metadata": {},
          "execution_count": 44
        }
      ]
    },
    {
      "cell_type": "code",
      "metadata": {
        "colab": {
          "base_uri": "https://localhost:8080/"
        },
        "id": "ZGa3E3P2OXC0",
        "outputId": "9e23ec88-4b5a-4042-bb9d-29cbace375e2"
      },
      "source": [
        "myTuple = (1, 3, 4, 5, 6)\n",
        "myTuple"
      ],
      "execution_count": 47,
      "outputs": [
        {
          "output_type": "execute_result",
          "data": {
            "text/plain": [
              "(1, 3, 4, 5, 6)"
            ]
          },
          "metadata": {},
          "execution_count": 47
        }
      ]
    },
    {
      "cell_type": "code",
      "metadata": {
        "id": "WS9JpD8tiIVz",
        "colab": {
          "base_uri": "https://localhost:8080/"
        },
        "outputId": "86b93f38-2eb6-430e-aae5-fe922328159a"
      },
      "source": [
        "myTuple.count(4)"
      ],
      "execution_count": 48,
      "outputs": [
        {
          "output_type": "execute_result",
          "data": {
            "text/plain": [
              "1"
            ]
          },
          "metadata": {},
          "execution_count": 48
        }
      ]
    },
    {
      "cell_type": "code",
      "metadata": {
        "colab": {
          "base_uri": "https://localhost:8080/"
        },
        "id": "4Ec6LTI_OVV9",
        "outputId": "6a35e1df-feb5-4b0f-a3d5-6e43c11d7c9f"
      },
      "source": [
        "aboutMe = {'name':'rofik', 'age':'00', 'hobbies': ['dunno','something meaningful maybe'],}\n",
        "aboutMe"
      ],
      "execution_count": 51,
      "outputs": [
        {
          "output_type": "execute_result",
          "data": {
            "text/plain": [
              "{'age': '00',\n",
              " 'hobbies': ['dunno', 'something meaningful maybe'],\n",
              " 'name': 'rofik'}"
            ]
          },
          "metadata": {},
          "execution_count": 51
        }
      ]
    },
    {
      "cell_type": "code",
      "metadata": {
        "colab": {
          "base_uri": "https://localhost:8080/",
          "height": 35
        },
        "id": "Px4xOyYGPLGu",
        "outputId": "ddca911e-6be7-496e-a19b-8c623a15fee5"
      },
      "source": [
        "aboutMe['name']"
      ],
      "execution_count": 52,
      "outputs": [
        {
          "output_type": "execute_result",
          "data": {
            "application/vnd.google.colaboratory.intrinsic+json": {
              "type": "string"
            },
            "text/plain": [
              "'rofik'"
            ]
          },
          "metadata": {},
          "execution_count": 52
        }
      ]
    },
    {
      "cell_type": "code",
      "metadata": {
        "id": "FzF2yqCaPXJG"
      },
      "source": [
        "aboutMe['occupancy'] = 'YK'"
      ],
      "execution_count": 53,
      "outputs": []
    },
    {
      "cell_type": "code",
      "metadata": {
        "colab": {
          "base_uri": "https://localhost:8080/"
        },
        "id": "MY_SA5npP4aF",
        "outputId": "ecc1637b-62f2-4252-e3dd-8be4ea238732"
      },
      "source": [
        "aboutMe"
      ],
      "execution_count": 54,
      "outputs": [
        {
          "output_type": "execute_result",
          "data": {
            "text/plain": [
              "{'age': '00',\n",
              " 'hobbies': ['dunno', 'something meaningful maybe'],\n",
              " 'name': 'rofik',\n",
              " 'occupancy': 'YK'}"
            ]
          },
          "metadata": {},
          "execution_count": 54
        }
      ]
    },
    {
      "cell_type": "code",
      "metadata": {
        "id": "gWmcbd1BP77l"
      },
      "source": [
        "aboutMe['address'] = {\n",
        "    'city':'Yogyakarta',\n",
        "    'region':'Yogyakarta',\n",
        "    'street':'Mangkubumi'\n",
        "}"
      ],
      "execution_count": 55,
      "outputs": []
    },
    {
      "cell_type": "code",
      "metadata": {
        "colab": {
          "base_uri": "https://localhost:8080/"
        },
        "id": "kwzsliPuQO0r",
        "outputId": "3eecbe48-4c95-4a15-b416-baf8ea370828"
      },
      "source": [
        "aboutMe"
      ],
      "execution_count": 56,
      "outputs": [
        {
          "output_type": "execute_result",
          "data": {
            "text/plain": [
              "{'address': {'city': 'Yogyakarta',\n",
              "  'region': 'Yogyakarta',\n",
              "  'street': 'Mangkubumi'},\n",
              " 'age': '00',\n",
              " 'hobbies': ['dunno', 'something meaningful maybe'],\n",
              " 'name': 'rofik',\n",
              " 'occupancy': 'YK'}"
            ]
          },
          "metadata": {},
          "execution_count": 56
        }
      ]
    },
    {
      "cell_type": "code",
      "metadata": {
        "colab": {
          "base_uri": "https://localhost:8080/",
          "height": 35
        },
        "id": "nUQoc4wdQTA9",
        "outputId": "4ba1aec4-f1a8-46e7-c08d-28f418b738d3"
      },
      "source": [
        "aboutMe['hobbies'][1]"
      ],
      "execution_count": 58,
      "outputs": [
        {
          "output_type": "execute_result",
          "data": {
            "application/vnd.google.colaboratory.intrinsic+json": {
              "type": "string"
            },
            "text/plain": [
              "'something meaningful maybe'"
            ]
          },
          "metadata": {},
          "execution_count": 58
        }
      ]
    },
    {
      "cell_type": "code",
      "metadata": {
        "id": "un3ykRKBQgd6"
      },
      "source": [
        ""
      ],
      "execution_count": null,
      "outputs": []
    }
  ]
}