{
 "cells": [
  {
   "cell_type": "code",
   "execution_count": 9,
   "id": "bc8f4224",
   "metadata": {},
   "outputs": [
    {
     "name": "stdout",
     "output_type": "stream",
     "text": [
      "*\n",
      "**\n",
      "***\n",
      "****\n",
      "*****\n",
      "\n"
     ]
    }
   ],
   "source": [
    "def startStair(step):\n",
    "    row = step\n",
    "    i = 0\n",
    "    disp = \"\"\n",
    "    while i < row:\n",
    "        col = i + 1\n",
    "        j = 0\n",
    "        while j < col:\n",
    "            disp += '*'\n",
    "            j += 1\n",
    "        disp += '\\n'\n",
    "        i = col\n",
    "    return disp\n",
    "\n",
    "print(startStair(5))"
   ]
  },
  {
   "cell_type": "code",
   "execution_count": 11,
   "id": "bce00f5f",
   "metadata": {},
   "outputs": [
    {
     "data": {
      "text/plain": [
       "35"
      ]
     },
     "execution_count": 11,
     "metadata": {},
     "output_type": "execute_result"
    }
   ],
   "source": [
    "def f(x):\n",
    "    return 10 + x * x\n",
    "f(5)"
   ]
  },
  {
   "cell_type": "code",
   "execution_count": 13,
   "id": "eff1f715",
   "metadata": {},
   "outputs": [
    {
     "name": "stdout",
     "output_type": "stream",
     "text": [
      "hello ego\n"
     ]
    }
   ],
   "source": [
    "def printHello(name):\n",
    "    print('hello' , name)\n",
    "\n",
    "printHello('rofik')"
   ]
  },
  {
   "cell_type": "code",
   "execution_count": 14,
   "id": "58ba350c",
   "metadata": {},
   "outputs": [
    {
     "name": "stdout",
     "output_type": "stream",
     "text": [
      "please input number1\n",
      "you are under age lets wait 17 more years\n",
      "di luar scope if\n"
     ]
    }
   ],
   "source": [
    "myage = 0\n",
    "adultTreshold = 18\n",
    "\n",
    "myage = int(input('please input number'))\n",
    "\n",
    "if myage >= adultTreshold :\n",
    "  print(\"You are adult\")\n",
    "  print(\"lets drink\")\n",
    "\n",
    "else:\n",
    "  yearsToAdult = adultTreshold - myage\n",
    "  print('you are under age lets wait {} more years'.format(yearsToAdult))\n",
    "\n",
    "print('di luar scope if')"
   ]
  },
  {
   "cell_type": "code",
   "execution_count": 22,
   "id": "1e2df8b5",
   "metadata": {},
   "outputs": [
    {
     "name": "stdout",
     "output_type": "stream",
     "text": [
      "please input number5\n",
      "you are under age lets wait 13 more years\n"
     ]
    }
   ],
   "source": [
    "def seleksiUmur(umur):\n",
    "    if umur >= adultTreshold : \n",
    "        print(\"You are adult\")\n",
    "        print(\"lets drink\")\n",
    "    else:\n",
    "        yearsToAdult = adultTreshold - umur\n",
    "        print('you are under age lets wait {} more years'.format(yearsToAdult))\n",
    "\n",
    "myage = 0\n",
    "adultTreshold = 18\n",
    "myage = int(input('please input number'))\n",
    "seleksiUmur(myage)"
   ]
  },
  {
   "cell_type": "code",
   "execution_count": 32,
   "id": "90ca2b00",
   "metadata": {},
   "outputs": [
    {
     "name": "stdout",
     "output_type": "stream",
     "text": [
      "please input number 12\n"
     ]
    },
    {
     "data": {
      "text/plain": [
       "'you are under age lets wait 6 more years'"
      ]
     },
     "execution_count": 32,
     "metadata": {},
     "output_type": "execute_result"
    }
   ],
   "source": [
    "def seleksiUmur(umur):\n",
    "    if (not umur.isnumeric()):\n",
    "        return \n",
    "    else:\n",
    "        umur = int(myage)\n",
    "        if umur >= adultTreshold : \n",
    "            return \"You are adult \\n lets drink\"\n",
    "        else:\n",
    "            yearsToAdult = adultTreshold - umur\n",
    "            return 'you are under age lets wait {} more years'.format(yearsToAdult)\n",
    "\n",
    "myage=0\n",
    "adultTreshold = 18\n",
    "myage = input('please input number ')\n",
    "seleksiUmur(myage)"
   ]
  },
  {
   "cell_type": "code",
   "execution_count": 33,
   "id": "f09142c1",
   "metadata": {},
   "outputs": [],
   "source": [
    "def printHello(hobby, name = 'rofik'):\n",
    "    print('hello name saya ', name)\n",
    "    print('Hobby saya ', hobby)"
   ]
  },
  {
   "cell_type": "code",
   "execution_count": 34,
   "id": "12ac50f0",
   "metadata": {},
   "outputs": [
    {
     "name": "stdout",
     "output_type": "stream",
     "text": [
      "hello name saya  bambang\n",
      "Hobby saya  makan\n"
     ]
    }
   ],
   "source": [
    "printHello('makan','bambang')"
   ]
  },
  {
   "cell_type": "code",
   "execution_count": 35,
   "id": "26298f33",
   "metadata": {},
   "outputs": [
    {
     "name": "stdout",
     "output_type": "stream",
     "text": [
      "hello name saya  rofik\n",
      "Hobby saya  Coding\n"
     ]
    }
   ],
   "source": [
    "printHello(name = 'rofik', hobby = 'Coding')"
   ]
  },
  {
   "cell_type": "code",
   "execution_count": 39,
   "id": "66d92134",
   "metadata": {},
   "outputs": [],
   "source": [
    "def tambah(a, b, *res):\n",
    "    hasil = a+b\n",
    "    for i in res:\n",
    "        hasil += i\n",
    "    return hasil"
   ]
  },
  {
   "cell_type": "code",
   "execution_count": 40,
   "id": "30acc2cf",
   "metadata": {},
   "outputs": [
    {
     "data": {
      "text/plain": [
       "8"
      ]
     },
     "execution_count": 40,
     "metadata": {},
     "output_type": "execute_result"
    }
   ],
   "source": [
    "tambah(1,3,4)"
   ]
  },
  {
   "cell_type": "code",
   "execution_count": 43,
   "id": "325287c4",
   "metadata": {},
   "outputs": [
    {
     "data": {
      "text/plain": [
       "43"
      ]
     },
     "execution_count": 43,
     "metadata": {},
     "output_type": "execute_result"
    }
   ],
   "source": [
    "tambah(1,3,4,5,6,7,8,9)"
   ]
  },
  {
   "cell_type": "code",
   "execution_count": 46,
   "id": "72ab0804",
   "metadata": {},
   "outputs": [
    {
     "name": "stdout",
     "output_type": "stream",
     "text": [
      "my outer var\n"
     ]
    }
   ],
   "source": [
    "def nestedFun():\n",
    "    outerVar = 'my outer var'\n",
    "    def inifunc():\n",
    "        inerVar =  'inner var'\n",
    "        print(outerVar)\n",
    "    inifunc()\n",
    "    print(inerVar)\n",
    "    \n",
    "nestedFun()"
   ]
  },
  {
   "cell_type": "code",
   "execution_count": 48,
   "id": "a3ca011f",
   "metadata": {},
   "outputs": [
    {
     "data": {
      "text/plain": [
       "49"
      ]
     },
     "execution_count": 48,
     "metadata": {},
     "output_type": "execute_result"
    }
   ],
   "source": [
    "# f(x,y,z) = 10x + y^2 + z*5\n",
    "def calcfunc(x,y,z):\n",
    "    return (10*x) + (y*y) + (z*5)\n",
    "\n",
    "calcfunc(2,3,4)"
   ]
  },
  {
   "cell_type": "code",
   "execution_count": 91,
   "id": "6ec6038f",
   "metadata": {},
   "outputs": [
    {
     "data": {
      "text/plain": [
       "0.008333333333333333"
      ]
     },
     "execution_count": 91,
     "metadata": {},
     "output_type": "execute_result"
    }
   ],
   "source": [
    "def add(*args):\n",
    "    res = 0\n",
    "    for arg in args:\n",
    "        res += arg\n",
    "    return res\n",
    "\n",
    "def multiply(*args):\n",
    "    res = 1\n",
    "    for arg in args:\n",
    "        res = res * arg\n",
    "    return res\n",
    "\n",
    "def divide(*args):\n",
    "    [res, *sisa] = args\n",
    "    for arg in sisa:\n",
    "        res = res / arg\n",
    "    return res\n",
    "\n",
    "def kali(*args):\n",
    "    res = [arg * arg for arg in args]\n",
    "    return sum(res)\n",
    "\n",
    "divide(1,2,3,4,5)"
   ]
  },
  {
   "cell_type": "code",
   "execution_count": 14,
   "id": "4399b9b5",
   "metadata": {},
   "outputs": [],
   "source": [
    "import calculator"
   ]
  },
  {
   "cell_type": "code",
   "execution_count": 15,
   "id": "20363b22",
   "metadata": {},
   "outputs": [
    {
     "name": "stdout",
     "output_type": "stream",
     "text": [
      "15\n",
      "2.0\n",
      "50\n"
     ]
    }
   ],
   "source": [
    "print(calculator.add(10,5))\n",
    "print(calculator.divide(10,5))\n",
    "print(calculator.multiply(10,5))"
   ]
  },
  {
   "cell_type": "code",
   "execution_count": 102,
   "id": "34925ced",
   "metadata": {},
   "outputs": [
    {
     "name": "stdout",
     "output_type": "stream",
     "text": [
      "Requirement already satisfied: pytube in d:\\anaconda\\lib\\site-packages (11.0.1)\n",
      "Note: you may need to restart the kernel to use updated packages.\n"
     ]
    }
   ],
   "source": [
    "pip install pytube"
   ]
  },
  {
   "cell_type": "code",
   "execution_count": 105,
   "id": "c84c781d",
   "metadata": {},
   "outputs": [
    {
     "name": "stdout",
     "output_type": "stream",
     "text": [
      "Collecting git+https://github.com/pytube/pytube\n",
      "  Cloning https://github.com/pytube/pytube to c:\\users\\rot\\appdata\\local\\temp\\pip-req-build-lqw50126\n",
      "Note: you may need to restart the kernel to use updated packages.\n"
     ]
    },
    {
     "name": "stderr",
     "output_type": "stream",
     "text": [
      "  Running command git clone -q https://github.com/pytube/pytube 'C:\\Users\\RoT\\AppData\\Local\\Temp\\pip-req-build-lqw50126'\n"
     ]
    }
   ],
   "source": [
    "pip install git+https://github.com/pytube/pytube"
   ]
  },
  {
   "cell_type": "code",
   "execution_count": 106,
   "id": "3fa98d39",
   "metadata": {},
   "outputs": [
    {
     "data": {
      "text/plain": [
       "[<Stream: itag=\"17\" mime_type=\"video/3gpp\" res=\"144p\" fps=\"12fps\" vcodec=\"mp4v.20.3\" acodec=\"mp4a.40.2\" progressive=\"True\" type=\"video\">, <Stream: itag=\"18\" mime_type=\"video/mp4\" res=\"360p\" fps=\"24fps\" vcodec=\"avc1.42001E\" acodec=\"mp4a.40.2\" progressive=\"True\" type=\"video\">, <Stream: itag=\"22\" mime_type=\"video/mp4\" res=\"720p\" fps=\"24fps\" vcodec=\"avc1.64001F\" acodec=\"mp4a.40.2\" progressive=\"True\" type=\"video\">, <Stream: itag=\"137\" mime_type=\"video/mp4\" res=\"1080p\" fps=\"24fps\" vcodec=\"avc1.640028\" progressive=\"False\" type=\"video\">, <Stream: itag=\"248\" mime_type=\"video/webm\" res=\"1080p\" fps=\"24fps\" vcodec=\"vp9\" progressive=\"False\" type=\"video\">, <Stream: itag=\"399\" mime_type=\"video/mp4\" res=\"1080p\" fps=\"24fps\" vcodec=\"av01.0.08M.08\" progressive=\"False\" type=\"video\">, <Stream: itag=\"136\" mime_type=\"video/mp4\" res=\"720p\" fps=\"24fps\" vcodec=\"avc1.4d401f\" progressive=\"False\" type=\"video\">, <Stream: itag=\"247\" mime_type=\"video/webm\" res=\"720p\" fps=\"24fps\" vcodec=\"vp9\" progressive=\"False\" type=\"video\">, <Stream: itag=\"398\" mime_type=\"video/mp4\" res=\"720p\" fps=\"24fps\" vcodec=\"av01.0.05M.08\" progressive=\"False\" type=\"video\">, <Stream: itag=\"135\" mime_type=\"video/mp4\" res=\"480p\" fps=\"24fps\" vcodec=\"avc1.4d401e\" progressive=\"False\" type=\"video\">, <Stream: itag=\"244\" mime_type=\"video/webm\" res=\"480p\" fps=\"24fps\" vcodec=\"vp9\" progressive=\"False\" type=\"video\">, <Stream: itag=\"397\" mime_type=\"video/mp4\" res=\"480p\" fps=\"24fps\" vcodec=\"av01.0.04M.08\" progressive=\"False\" type=\"video\">, <Stream: itag=\"134\" mime_type=\"video/mp4\" res=\"360p\" fps=\"24fps\" vcodec=\"avc1.4d401e\" progressive=\"False\" type=\"video\">, <Stream: itag=\"243\" mime_type=\"video/webm\" res=\"360p\" fps=\"24fps\" vcodec=\"vp9\" progressive=\"False\" type=\"video\">, <Stream: itag=\"396\" mime_type=\"video/mp4\" res=\"360p\" fps=\"24fps\" vcodec=\"av01.0.01M.08\" progressive=\"False\" type=\"video\">, <Stream: itag=\"133\" mime_type=\"video/mp4\" res=\"240p\" fps=\"24fps\" vcodec=\"avc1.4d4015\" progressive=\"False\" type=\"video\">, <Stream: itag=\"242\" mime_type=\"video/webm\" res=\"240p\" fps=\"24fps\" vcodec=\"vp9\" progressive=\"False\" type=\"video\">, <Stream: itag=\"395\" mime_type=\"video/mp4\" res=\"240p\" fps=\"24fps\" vcodec=\"av01.0.00M.08\" progressive=\"False\" type=\"video\">, <Stream: itag=\"160\" mime_type=\"video/mp4\" res=\"144p\" fps=\"24fps\" vcodec=\"avc1.4d400c\" progressive=\"False\" type=\"video\">, <Stream: itag=\"278\" mime_type=\"video/webm\" res=\"144p\" fps=\"24fps\" vcodec=\"vp9\" progressive=\"False\" type=\"video\">, <Stream: itag=\"394\" mime_type=\"video/mp4\" res=\"144p\" fps=\"24fps\" vcodec=\"av01.0.00M.08\" progressive=\"False\" type=\"video\">, <Stream: itag=\"139\" mime_type=\"audio/mp4\" abr=\"48kbps\" acodec=\"mp4a.40.5\" progressive=\"False\" type=\"audio\">, <Stream: itag=\"140\" mime_type=\"audio/mp4\" abr=\"128kbps\" acodec=\"mp4a.40.2\" progressive=\"False\" type=\"audio\">, <Stream: itag=\"249\" mime_type=\"audio/webm\" abr=\"50kbps\" acodec=\"opus\" progressive=\"False\" type=\"audio\">, <Stream: itag=\"250\" mime_type=\"audio/webm\" abr=\"70kbps\" acodec=\"opus\" progressive=\"False\" type=\"audio\">, <Stream: itag=\"251\" mime_type=\"audio/webm\" abr=\"160kbps\" acodec=\"opus\" progressive=\"False\" type=\"audio\">]"
      ]
     },
     "execution_count": 106,
     "metadata": {},
     "output_type": "execute_result"
    }
   ],
   "source": [
    "from pytube import YouTube\n",
    "YouTube('https://youtu.be/2lAe1cqCOXo').streams.first().download()\n",
    "yt = YouTube('http://youtube.com/watch?v=2lAe1cqCOXo')\n",
    "yt.streams"
   ]
  },
  {
   "cell_type": "code",
   "execution_count": 107,
   "id": "eb50f840",
   "metadata": {},
   "outputs": [
    {
     "name": "stdout",
     "output_type": "stream",
     "text": [
      " Volume in drive C has no label.\n",
      " Volume Serial Number is EEF4-43C9\n",
      "\n",
      " Directory of C:\\Users\\RoT\\Untitled Folder\n",
      "\n",
      "08/31/2021  09:48 PM    <DIR>          .\n",
      "08/31/2021  09:48 PM    <DIR>          ..\n",
      "08/31/2021  07:09 PM    <DIR>          .ipynb_checkpoints\n",
      "08/31/2021  09:12 PM               378 calculator.py\n",
      "08/31/2021  09:38 PM            13,571 Session 3.ipynb\n",
      "08/31/2021  09:49 PM         3,399,554 YouTube Rewind 2019 For the Record  YouTubeRewind.3gpp\n",
      "               3 File(s)      3,413,503 bytes\n",
      "               3 Dir(s)  11,691,683,840 bytes free\n"
     ]
    }
   ],
   "source": [
    "ls"
   ]
  },
  {
   "cell_type": "code",
   "execution_count": null,
   "id": "51172dbd",
   "metadata": {},
   "outputs": [],
   "source": []
  }
 ],
 "metadata": {
  "kernelspec": {
   "display_name": "Python 3",
   "language": "python",
   "name": "python3"
  },
  "language_info": {
   "codemirror_mode": {
    "name": "ipython",
    "version": 3
   },
   "file_extension": ".py",
   "mimetype": "text/x-python",
   "name": "python",
   "nbconvert_exporter": "python",
   "pygments_lexer": "ipython3",
   "version": "3.8.8"
  }
 },
 "nbformat": 4,
 "nbformat_minor": 5
}
