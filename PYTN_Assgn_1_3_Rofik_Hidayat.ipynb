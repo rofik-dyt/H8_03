{
  "nbformat": 4,
  "nbformat_minor": 0,
  "metadata": {
    "colab": {
      "name": "PYTN_Assgn_1_3_Rofik Hidayat.ipynb",
      "provenance": [],
      "collapsed_sections": []
    },
    "kernelspec": {
      "name": "python3",
      "display_name": "Python 3"
    },
    "language_info": {
      "name": "python"
    }
  },
  "cells": [
    {
      "cell_type": "markdown",
      "metadata": {
        "id": "OZiwm8hUUxAf"
      },
      "source": [
        "# Download Dataset"
      ]
    },
    {
      "cell_type": "markdown",
      "metadata": {
        "id": "NOU_AqTKVBpE"
      },
      "source": [
        "Jika menggunakan google colab, untuk mendownload dataset dari kaggle lebih baik mendownload nya langsung karena langsung menggunakan koneksi dari googlenya sehingga tidak perlu mengupload ke drive atau google colab. Jika menggunakan Jupyter Notebook yang dimana datasetnya berada di local maka, langsung saja di import datasetnya dari folder datasets."
      ]
    },
    {
      "cell_type": "code",
      "metadata": {
        "colab": {
          "base_uri": "https://localhost:8080/"
        },
        "id": "E9Ljfbgdg-jj",
        "outputId": "47b4bf16-1a0b-4c52-a3e7-afe1f77a4089"
      },
      "source": [
        "!pip install kaggle"
      ],
      "execution_count": 1,
      "outputs": [
        {
          "output_type": "stream",
          "name": "stdout",
          "text": [
            "Requirement already satisfied: kaggle in /usr/local/lib/python3.7/dist-packages (1.5.12)\n",
            "Requirement already satisfied: certifi in /usr/local/lib/python3.7/dist-packages (from kaggle) (2021.5.30)\n",
            "Requirement already satisfied: requests in /usr/local/lib/python3.7/dist-packages (from kaggle) (2.23.0)\n",
            "Requirement already satisfied: python-slugify in /usr/local/lib/python3.7/dist-packages (from kaggle) (5.0.2)\n",
            "Requirement already satisfied: python-dateutil in /usr/local/lib/python3.7/dist-packages (from kaggle) (2.8.2)\n",
            "Requirement already satisfied: urllib3 in /usr/local/lib/python3.7/dist-packages (from kaggle) (1.24.3)\n",
            "Requirement already satisfied: tqdm in /usr/local/lib/python3.7/dist-packages (from kaggle) (4.62.3)\n",
            "Requirement already satisfied: six>=1.10 in /usr/local/lib/python3.7/dist-packages (from kaggle) (1.15.0)\n",
            "Requirement already satisfied: text-unidecode>=1.3 in /usr/local/lib/python3.7/dist-packages (from python-slugify->kaggle) (1.3)\n",
            "Requirement already satisfied: chardet<4,>=3.0.2 in /usr/local/lib/python3.7/dist-packages (from requests->kaggle) (3.0.4)\n",
            "Requirement already satisfied: idna<3,>=2.5 in /usr/local/lib/python3.7/dist-packages (from requests->kaggle) (2.10)\n"
          ]
        }
      ]
    },
    {
      "cell_type": "markdown",
      "metadata": {
        "id": "7lx2PL4CWEUe"
      },
      "source": [
        "Mengupload file json yang digunakan untuk login ke kaggle"
      ]
    },
    {
      "cell_type": "code",
      "metadata": {
        "id": "pGRbyoxkiEFC",
        "colab": {
          "resources": {
            "http://localhost:8080/nbextensions/google.colab/files.js": {
              "data": "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",
              "ok": true,
              "headers": [
                [
                  "content-type",
                  "application/javascript"
                ]
              ],
              "status": 200,
              "status_text": ""
            }
          },
          "base_uri": "https://localhost:8080/",
          "height": 89
        },
        "outputId": "517fe576-9bd7-4b17-a7f4-8b15c7b4ee19"
      },
      "source": [
        "from google.colab import files\n",
        "files.upload()"
      ],
      "execution_count": 2,
      "outputs": [
        {
          "output_type": "display_data",
          "data": {
            "text/html": [
              "\n",
              "     <input type=\"file\" id=\"files-77130b77-3012-49c1-ae06-d23488e45416\" name=\"files[]\" multiple disabled\n",
              "        style=\"border:none\" />\n",
              "     <output id=\"result-77130b77-3012-49c1-ae06-d23488e45416\">\n",
              "      Upload widget is only available when the cell has been executed in the\n",
              "      current browser session. Please rerun this cell to enable.\n",
              "      </output>\n",
              "      <script src=\"/nbextensions/google.colab/files.js\"></script> "
            ],
            "text/plain": [
              "<IPython.core.display.HTML object>"
            ]
          },
          "metadata": {}
        },
        {
          "output_type": "stream",
          "name": "stdout",
          "text": [
            "Saving kaggle.json to kaggle.json\n"
          ]
        },
        {
          "output_type": "execute_result",
          "data": {
            "text/plain": [
              "{'kaggle.json': b'{\"username\":\"rofikhidayat\",\"key\":\"d892a1f4bf4f5b70c6ef37688a2eca8a\"}'}"
            ]
          },
          "metadata": {},
          "execution_count": 2
        }
      ]
    },
    {
      "cell_type": "markdown",
      "metadata": {
        "id": "UboFy12dWfzt"
      },
      "source": [
        "Membuat dir kaggle dan mengubah permission json yang di upload tadi"
      ]
    },
    {
      "cell_type": "code",
      "metadata": {
        "id": "UsmtuQvvmnyr"
      },
      "source": [
        "!mkdir -p ~/.kaggle\n",
        "!cp kaggle.json ~/.kaggle/\n",
        "!chmod 600 /root/.kaggle/kaggle.json"
      ],
      "execution_count": 3,
      "outputs": []
    },
    {
      "cell_type": "markdown",
      "metadata": {
        "id": "J-C73xWxWqd2"
      },
      "source": [
        "Mendownload dataset london-crime dari kaggle"
      ]
    },
    {
      "cell_type": "code",
      "metadata": {
        "id": "S3eRB4uFm9ob",
        "colab": {
          "base_uri": "https://localhost:8080/"
        },
        "outputId": "584fa47c-ce97-4480-a9a9-134d0edc8182"
      },
      "source": [
        "!kaggle datasets download -d jboysen/london-crime"
      ],
      "execution_count": 4,
      "outputs": [
        {
          "output_type": "stream",
          "name": "stdout",
          "text": [
            "Downloading london-crime.zip to /content\n",
            " 93% 113M/121M [00:04<00:00, 21.4MB/s]\n",
            "100% 121M/121M [00:04<00:00, 29.4MB/s]\n"
          ]
        }
      ]
    },
    {
      "cell_type": "markdown",
      "metadata": {
        "id": "1ihj7qxdWwSm"
      },
      "source": [
        "Unzip dataset"
      ]
    },
    {
      "cell_type": "code",
      "metadata": {
        "id": "x_DIKplPnxvr",
        "colab": {
          "base_uri": "https://localhost:8080/"
        },
        "outputId": "cc13df6d-3a98-4e6d-af36-8c3057a0cfa4"
      },
      "source": [
        "!mkdir dataset\n",
        "!unzip ./london-crime.zip -d ./dataset\n",
        "!ls -l ./dataset"
      ],
      "execution_count": 5,
      "outputs": [
        {
          "output_type": "stream",
          "name": "stdout",
          "text": [
            "Archive:  ./london-crime.zip\n",
            "  inflating: ./dataset/london_crime_by_lsoa.csv  \n",
            "total 910948\n",
            "-rw-r--r-- 1 root root 932802830 Sep 20  2019 london_crime_by_lsoa.csv\n"
          ]
        }
      ]
    },
    {
      "cell_type": "markdown",
      "metadata": {
        "id": "nBZkRtb-EQg6"
      },
      "source": [
        "#Import Data"
      ]
    },
    {
      "cell_type": "markdown",
      "metadata": {
        "id": "gWmG2R_wUTE0"
      },
      "source": [
        "import datasetnya dari folder dataset."
      ]
    },
    {
      "cell_type": "code",
      "metadata": {
        "id": "WM1YsODTnhMT"
      },
      "source": [
        "import numpy as np\n",
        "import pandas as pd\n",
        "import matplotlib.pyplot as plt"
      ],
      "execution_count": 6,
      "outputs": []
    },
    {
      "cell_type": "code",
      "metadata": {
        "id": "Uykg5YRcnb5t",
        "colab": {
          "base_uri": "https://localhost:8080/",
          "height": 419
        },
        "outputId": "94602a3b-9958-446b-9cc7-9b56d90238c9"
      },
      "source": [
        "df_crime = pd.read_csv(\"./dataset/london_crime_by_lsoa.csv\")\n",
        "df_crime"
      ],
      "execution_count": 7,
      "outputs": [
        {
          "output_type": "execute_result",
          "data": {
            "text/html": [
              "<div>\n",
              "<style scoped>\n",
              "    .dataframe tbody tr th:only-of-type {\n",
              "        vertical-align: middle;\n",
              "    }\n",
              "\n",
              "    .dataframe tbody tr th {\n",
              "        vertical-align: top;\n",
              "    }\n",
              "\n",
              "    .dataframe thead th {\n",
              "        text-align: right;\n",
              "    }\n",
              "</style>\n",
              "<table border=\"1\" class=\"dataframe\">\n",
              "  <thead>\n",
              "    <tr style=\"text-align: right;\">\n",
              "      <th></th>\n",
              "      <th>lsoa_code</th>\n",
              "      <th>borough</th>\n",
              "      <th>major_category</th>\n",
              "      <th>minor_category</th>\n",
              "      <th>value</th>\n",
              "      <th>year</th>\n",
              "      <th>month</th>\n",
              "    </tr>\n",
              "  </thead>\n",
              "  <tbody>\n",
              "    <tr>\n",
              "      <th>0</th>\n",
              "      <td>E01001116</td>\n",
              "      <td>Croydon</td>\n",
              "      <td>Burglary</td>\n",
              "      <td>Burglary in Other Buildings</td>\n",
              "      <td>0</td>\n",
              "      <td>2016</td>\n",
              "      <td>11</td>\n",
              "    </tr>\n",
              "    <tr>\n",
              "      <th>1</th>\n",
              "      <td>E01001646</td>\n",
              "      <td>Greenwich</td>\n",
              "      <td>Violence Against the Person</td>\n",
              "      <td>Other violence</td>\n",
              "      <td>0</td>\n",
              "      <td>2016</td>\n",
              "      <td>11</td>\n",
              "    </tr>\n",
              "    <tr>\n",
              "      <th>2</th>\n",
              "      <td>E01000677</td>\n",
              "      <td>Bromley</td>\n",
              "      <td>Violence Against the Person</td>\n",
              "      <td>Other violence</td>\n",
              "      <td>0</td>\n",
              "      <td>2015</td>\n",
              "      <td>5</td>\n",
              "    </tr>\n",
              "    <tr>\n",
              "      <th>3</th>\n",
              "      <td>E01003774</td>\n",
              "      <td>Redbridge</td>\n",
              "      <td>Burglary</td>\n",
              "      <td>Burglary in Other Buildings</td>\n",
              "      <td>0</td>\n",
              "      <td>2016</td>\n",
              "      <td>3</td>\n",
              "    </tr>\n",
              "    <tr>\n",
              "      <th>4</th>\n",
              "      <td>E01004563</td>\n",
              "      <td>Wandsworth</td>\n",
              "      <td>Robbery</td>\n",
              "      <td>Personal Property</td>\n",
              "      <td>0</td>\n",
              "      <td>2008</td>\n",
              "      <td>6</td>\n",
              "    </tr>\n",
              "    <tr>\n",
              "      <th>...</th>\n",
              "      <td>...</td>\n",
              "      <td>...</td>\n",
              "      <td>...</td>\n",
              "      <td>...</td>\n",
              "      <td>...</td>\n",
              "      <td>...</td>\n",
              "      <td>...</td>\n",
              "    </tr>\n",
              "    <tr>\n",
              "      <th>13490599</th>\n",
              "      <td>E01000504</td>\n",
              "      <td>Brent</td>\n",
              "      <td>Criminal Damage</td>\n",
              "      <td>Criminal Damage To Dwelling</td>\n",
              "      <td>0</td>\n",
              "      <td>2015</td>\n",
              "      <td>2</td>\n",
              "    </tr>\n",
              "    <tr>\n",
              "      <th>13490600</th>\n",
              "      <td>E01002504</td>\n",
              "      <td>Hillingdon</td>\n",
              "      <td>Robbery</td>\n",
              "      <td>Personal Property</td>\n",
              "      <td>1</td>\n",
              "      <td>2015</td>\n",
              "      <td>6</td>\n",
              "    </tr>\n",
              "    <tr>\n",
              "      <th>13490601</th>\n",
              "      <td>E01004165</td>\n",
              "      <td>Sutton</td>\n",
              "      <td>Burglary</td>\n",
              "      <td>Burglary in a Dwelling</td>\n",
              "      <td>0</td>\n",
              "      <td>2011</td>\n",
              "      <td>2</td>\n",
              "    </tr>\n",
              "    <tr>\n",
              "      <th>13490602</th>\n",
              "      <td>E01001134</td>\n",
              "      <td>Croydon</td>\n",
              "      <td>Robbery</td>\n",
              "      <td>Business Property</td>\n",
              "      <td>0</td>\n",
              "      <td>2011</td>\n",
              "      <td>5</td>\n",
              "    </tr>\n",
              "    <tr>\n",
              "      <th>13490603</th>\n",
              "      <td>E01003413</td>\n",
              "      <td>Merton</td>\n",
              "      <td>Violence Against the Person</td>\n",
              "      <td>Wounding/GBH</td>\n",
              "      <td>0</td>\n",
              "      <td>2015</td>\n",
              "      <td>6</td>\n",
              "    </tr>\n",
              "  </tbody>\n",
              "</table>\n",
              "<p>13490604 rows × 7 columns</p>\n",
              "</div>"
            ],
            "text/plain": [
              "          lsoa_code     borough  ...  year month\n",
              "0         E01001116     Croydon  ...  2016    11\n",
              "1         E01001646   Greenwich  ...  2016    11\n",
              "2         E01000677     Bromley  ...  2015     5\n",
              "3         E01003774   Redbridge  ...  2016     3\n",
              "4         E01004563  Wandsworth  ...  2008     6\n",
              "...             ...         ...  ...   ...   ...\n",
              "13490599  E01000504       Brent  ...  2015     2\n",
              "13490600  E01002504  Hillingdon  ...  2015     6\n",
              "13490601  E01004165      Sutton  ...  2011     2\n",
              "13490602  E01001134     Croydon  ...  2011     5\n",
              "13490603  E01003413      Merton  ...  2015     6\n",
              "\n",
              "[13490604 rows x 7 columns]"
            ]
          },
          "metadata": {},
          "execution_count": 7
        }
      ]
    },
    {
      "cell_type": "markdown",
      "metadata": {
        "id": "H6GU1yVEXfFV"
      },
      "source": [
        "Cek apakah terdapat value yang null"
      ]
    },
    {
      "cell_type": "code",
      "metadata": {
        "id": "QNromIqqtm82",
        "colab": {
          "base_uri": "https://localhost:8080/"
        },
        "outputId": "788d2581-b357-4b2b-828a-caa4700c32b9"
      },
      "source": [
        "df_crime.isnull().sum()"
      ],
      "execution_count": null,
      "outputs": [
        {
          "output_type": "execute_result",
          "data": {
            "text/plain": [
              "lsoa_code         0\n",
              "borough           0\n",
              "major_category    0\n",
              "minor_category    0\n",
              "value             0\n",
              "year              0\n",
              "month             0\n",
              "dtype: int64"
            ]
          },
          "metadata": {},
          "execution_count": 8
        }
      ]
    },
    {
      "cell_type": "markdown",
      "metadata": {
        "id": "KuoLiXopXXit"
      },
      "source": [
        "Hapus colom yang tidak digunakan"
      ]
    },
    {
      "cell_type": "code",
      "metadata": {
        "id": "u8SaefAgo7PM",
        "colab": {
          "base_uri": "https://localhost:8080/",
          "height": 419
        },
        "outputId": "2d3bd97f-8b70-42ae-f5a5-ab94fdade70a"
      },
      "source": [
        "df_crime.drop([\"lsoa_code\"],axis=1,inplace=True)\n",
        "df_crime"
      ],
      "execution_count": null,
      "outputs": [
        {
          "output_type": "execute_result",
          "data": {
            "text/html": [
              "<div>\n",
              "<style scoped>\n",
              "    .dataframe tbody tr th:only-of-type {\n",
              "        vertical-align: middle;\n",
              "    }\n",
              "\n",
              "    .dataframe tbody tr th {\n",
              "        vertical-align: top;\n",
              "    }\n",
              "\n",
              "    .dataframe thead th {\n",
              "        text-align: right;\n",
              "    }\n",
              "</style>\n",
              "<table border=\"1\" class=\"dataframe\">\n",
              "  <thead>\n",
              "    <tr style=\"text-align: right;\">\n",
              "      <th></th>\n",
              "      <th>borough</th>\n",
              "      <th>major_category</th>\n",
              "      <th>minor_category</th>\n",
              "      <th>value</th>\n",
              "      <th>year</th>\n",
              "      <th>month</th>\n",
              "    </tr>\n",
              "  </thead>\n",
              "  <tbody>\n",
              "    <tr>\n",
              "      <th>0</th>\n",
              "      <td>Croydon</td>\n",
              "      <td>Burglary</td>\n",
              "      <td>Burglary in Other Buildings</td>\n",
              "      <td>0</td>\n",
              "      <td>2016</td>\n",
              "      <td>11</td>\n",
              "    </tr>\n",
              "    <tr>\n",
              "      <th>1</th>\n",
              "      <td>Greenwich</td>\n",
              "      <td>Violence Against the Person</td>\n",
              "      <td>Other violence</td>\n",
              "      <td>0</td>\n",
              "      <td>2016</td>\n",
              "      <td>11</td>\n",
              "    </tr>\n",
              "    <tr>\n",
              "      <th>2</th>\n",
              "      <td>Bromley</td>\n",
              "      <td>Violence Against the Person</td>\n",
              "      <td>Other violence</td>\n",
              "      <td>0</td>\n",
              "      <td>2015</td>\n",
              "      <td>5</td>\n",
              "    </tr>\n",
              "    <tr>\n",
              "      <th>3</th>\n",
              "      <td>Redbridge</td>\n",
              "      <td>Burglary</td>\n",
              "      <td>Burglary in Other Buildings</td>\n",
              "      <td>0</td>\n",
              "      <td>2016</td>\n",
              "      <td>3</td>\n",
              "    </tr>\n",
              "    <tr>\n",
              "      <th>4</th>\n",
              "      <td>Wandsworth</td>\n",
              "      <td>Robbery</td>\n",
              "      <td>Personal Property</td>\n",
              "      <td>0</td>\n",
              "      <td>2008</td>\n",
              "      <td>6</td>\n",
              "    </tr>\n",
              "    <tr>\n",
              "      <th>...</th>\n",
              "      <td>...</td>\n",
              "      <td>...</td>\n",
              "      <td>...</td>\n",
              "      <td>...</td>\n",
              "      <td>...</td>\n",
              "      <td>...</td>\n",
              "    </tr>\n",
              "    <tr>\n",
              "      <th>13490599</th>\n",
              "      <td>Brent</td>\n",
              "      <td>Criminal Damage</td>\n",
              "      <td>Criminal Damage To Dwelling</td>\n",
              "      <td>0</td>\n",
              "      <td>2015</td>\n",
              "      <td>2</td>\n",
              "    </tr>\n",
              "    <tr>\n",
              "      <th>13490600</th>\n",
              "      <td>Hillingdon</td>\n",
              "      <td>Robbery</td>\n",
              "      <td>Personal Property</td>\n",
              "      <td>1</td>\n",
              "      <td>2015</td>\n",
              "      <td>6</td>\n",
              "    </tr>\n",
              "    <tr>\n",
              "      <th>13490601</th>\n",
              "      <td>Sutton</td>\n",
              "      <td>Burglary</td>\n",
              "      <td>Burglary in a Dwelling</td>\n",
              "      <td>0</td>\n",
              "      <td>2011</td>\n",
              "      <td>2</td>\n",
              "    </tr>\n",
              "    <tr>\n",
              "      <th>13490602</th>\n",
              "      <td>Croydon</td>\n",
              "      <td>Robbery</td>\n",
              "      <td>Business Property</td>\n",
              "      <td>0</td>\n",
              "      <td>2011</td>\n",
              "      <td>5</td>\n",
              "    </tr>\n",
              "    <tr>\n",
              "      <th>13490603</th>\n",
              "      <td>Merton</td>\n",
              "      <td>Violence Against the Person</td>\n",
              "      <td>Wounding/GBH</td>\n",
              "      <td>0</td>\n",
              "      <td>2015</td>\n",
              "      <td>6</td>\n",
              "    </tr>\n",
              "  </tbody>\n",
              "</table>\n",
              "<p>13490604 rows × 6 columns</p>\n",
              "</div>"
            ],
            "text/plain": [
              "             borough               major_category  ...  year  month\n",
              "0            Croydon                     Burglary  ...  2016     11\n",
              "1          Greenwich  Violence Against the Person  ...  2016     11\n",
              "2            Bromley  Violence Against the Person  ...  2015      5\n",
              "3          Redbridge                     Burglary  ...  2016      3\n",
              "4         Wandsworth                      Robbery  ...  2008      6\n",
              "...              ...                          ...  ...   ...    ...\n",
              "13490599       Brent              Criminal Damage  ...  2015      2\n",
              "13490600  Hillingdon                      Robbery  ...  2015      6\n",
              "13490601      Sutton                     Burglary  ...  2011      2\n",
              "13490602     Croydon                      Robbery  ...  2011      5\n",
              "13490603      Merton  Violence Against the Person  ...  2015      6\n",
              "\n",
              "[13490604 rows x 6 columns]"
            ]
          },
          "metadata": {},
          "execution_count": 9
        }
      ]
    },
    {
      "cell_type": "markdown",
      "metadata": {
        "id": "4qEd346qJrBy"
      },
      "source": [
        "#Area Plot"
      ]
    },
    {
      "cell_type": "markdown",
      "metadata": {
        "id": "TCjCn5rWXlnF"
      },
      "source": [
        "menjumlahkan nilai Value berdasarkan year dan major_category yang dimasukkan ke variable total_ByYear"
      ]
    },
    {
      "cell_type": "code",
      "metadata": {
        "id": "XdoVswdide0b",
        "colab": {
          "base_uri": "https://localhost:8080/",
          "height": 450
        },
        "outputId": "97483476-0681-46cf-f86f-6e0e77d72e43"
      },
      "source": [
        "total_ByYear = df_crime.groupby(['year','major_category']).sum().drop(['month'],axis=1)\n",
        "total_ByYear"
      ],
      "execution_count": null,
      "outputs": [
        {
          "output_type": "execute_result",
          "data": {
            "text/html": [
              "<div>\n",
              "<style scoped>\n",
              "    .dataframe tbody tr th:only-of-type {\n",
              "        vertical-align: middle;\n",
              "    }\n",
              "\n",
              "    .dataframe tbody tr th {\n",
              "        vertical-align: top;\n",
              "    }\n",
              "\n",
              "    .dataframe thead th {\n",
              "        text-align: right;\n",
              "    }\n",
              "</style>\n",
              "<table border=\"1\" class=\"dataframe\">\n",
              "  <thead>\n",
              "    <tr style=\"text-align: right;\">\n",
              "      <th></th>\n",
              "      <th></th>\n",
              "      <th>value</th>\n",
              "    </tr>\n",
              "    <tr>\n",
              "      <th>year</th>\n",
              "      <th>major_category</th>\n",
              "      <th></th>\n",
              "    </tr>\n",
              "  </thead>\n",
              "  <tbody>\n",
              "    <tr>\n",
              "      <th rowspan=\"5\" valign=\"top\">2008</th>\n",
              "      <th>Burglary</th>\n",
              "      <td>88092</td>\n",
              "    </tr>\n",
              "    <tr>\n",
              "      <th>Criminal Damage</th>\n",
              "      <td>91872</td>\n",
              "    </tr>\n",
              "    <tr>\n",
              "      <th>Drugs</th>\n",
              "      <td>68804</td>\n",
              "    </tr>\n",
              "    <tr>\n",
              "      <th>Fraud or Forgery</th>\n",
              "      <td>5325</td>\n",
              "    </tr>\n",
              "    <tr>\n",
              "      <th>Other Notifiable Offences</th>\n",
              "      <td>10112</td>\n",
              "    </tr>\n",
              "    <tr>\n",
              "      <th>...</th>\n",
              "      <th>...</th>\n",
              "      <td>...</td>\n",
              "    </tr>\n",
              "    <tr>\n",
              "      <th rowspan=\"5\" valign=\"top\">2016</th>\n",
              "      <th>Other Notifiable Offences</th>\n",
              "      <td>15809</td>\n",
              "    </tr>\n",
              "    <tr>\n",
              "      <th>Robbery</th>\n",
              "      <td>22528</td>\n",
              "    </tr>\n",
              "    <tr>\n",
              "      <th>Sexual Offences</th>\n",
              "      <td>0</td>\n",
              "    </tr>\n",
              "    <tr>\n",
              "      <th>Theft and Handling</th>\n",
              "      <td>294133</td>\n",
              "    </tr>\n",
              "    <tr>\n",
              "      <th>Violence Against the Person</th>\n",
              "      <td>232381</td>\n",
              "    </tr>\n",
              "  </tbody>\n",
              "</table>\n",
              "<p>81 rows × 1 columns</p>\n",
              "</div>"
            ],
            "text/plain": [
              "                                   value\n",
              "year major_category                     \n",
              "2008 Burglary                      88092\n",
              "     Criminal Damage               91872\n",
              "     Drugs                         68804\n",
              "     Fraud or Forgery               5325\n",
              "     Other Notifiable Offences     10112\n",
              "...                                  ...\n",
              "2016 Other Notifiable Offences     15809\n",
              "     Robbery                       22528\n",
              "     Sexual Offences                   0\n",
              "     Theft and Handling           294133\n",
              "     Violence Against the Person  232381\n",
              "\n",
              "[81 rows x 1 columns]"
            ]
          },
          "metadata": {},
          "execution_count": 10
        }
      ]
    },
    {
      "cell_type": "markdown",
      "metadata": {
        "id": "6o4UZo1XYJZG"
      },
      "source": [
        "Me reset index yang tadinya multi index dan merubah nama colom value ke total"
      ]
    },
    {
      "cell_type": "code",
      "metadata": {
        "id": "AtlhQQXZe72b",
        "colab": {
          "base_uri": "https://localhost:8080/",
          "height": 419
        },
        "outputId": "bcdb024b-0a4a-44d8-8f94-10d730f81776"
      },
      "source": [
        "total_ByYear.reset_index(inplace=True)\n",
        "total_ByYear.rename(columns={'value':'total'}, inplace=True)\n",
        "total_ByYear"
      ],
      "execution_count": null,
      "outputs": [
        {
          "output_type": "execute_result",
          "data": {
            "text/html": [
              "<div>\n",
              "<style scoped>\n",
              "    .dataframe tbody tr th:only-of-type {\n",
              "        vertical-align: middle;\n",
              "    }\n",
              "\n",
              "    .dataframe tbody tr th {\n",
              "        vertical-align: top;\n",
              "    }\n",
              "\n",
              "    .dataframe thead th {\n",
              "        text-align: right;\n",
              "    }\n",
              "</style>\n",
              "<table border=\"1\" class=\"dataframe\">\n",
              "  <thead>\n",
              "    <tr style=\"text-align: right;\">\n",
              "      <th></th>\n",
              "      <th>year</th>\n",
              "      <th>major_category</th>\n",
              "      <th>total</th>\n",
              "    </tr>\n",
              "  </thead>\n",
              "  <tbody>\n",
              "    <tr>\n",
              "      <th>0</th>\n",
              "      <td>2008</td>\n",
              "      <td>Burglary</td>\n",
              "      <td>88092</td>\n",
              "    </tr>\n",
              "    <tr>\n",
              "      <th>1</th>\n",
              "      <td>2008</td>\n",
              "      <td>Criminal Damage</td>\n",
              "      <td>91872</td>\n",
              "    </tr>\n",
              "    <tr>\n",
              "      <th>2</th>\n",
              "      <td>2008</td>\n",
              "      <td>Drugs</td>\n",
              "      <td>68804</td>\n",
              "    </tr>\n",
              "    <tr>\n",
              "      <th>3</th>\n",
              "      <td>2008</td>\n",
              "      <td>Fraud or Forgery</td>\n",
              "      <td>5325</td>\n",
              "    </tr>\n",
              "    <tr>\n",
              "      <th>4</th>\n",
              "      <td>2008</td>\n",
              "      <td>Other Notifiable Offences</td>\n",
              "      <td>10112</td>\n",
              "    </tr>\n",
              "    <tr>\n",
              "      <th>...</th>\n",
              "      <td>...</td>\n",
              "      <td>...</td>\n",
              "      <td>...</td>\n",
              "    </tr>\n",
              "    <tr>\n",
              "      <th>76</th>\n",
              "      <td>2016</td>\n",
              "      <td>Other Notifiable Offences</td>\n",
              "      <td>15809</td>\n",
              "    </tr>\n",
              "    <tr>\n",
              "      <th>77</th>\n",
              "      <td>2016</td>\n",
              "      <td>Robbery</td>\n",
              "      <td>22528</td>\n",
              "    </tr>\n",
              "    <tr>\n",
              "      <th>78</th>\n",
              "      <td>2016</td>\n",
              "      <td>Sexual Offences</td>\n",
              "      <td>0</td>\n",
              "    </tr>\n",
              "    <tr>\n",
              "      <th>79</th>\n",
              "      <td>2016</td>\n",
              "      <td>Theft and Handling</td>\n",
              "      <td>294133</td>\n",
              "    </tr>\n",
              "    <tr>\n",
              "      <th>80</th>\n",
              "      <td>2016</td>\n",
              "      <td>Violence Against the Person</td>\n",
              "      <td>232381</td>\n",
              "    </tr>\n",
              "  </tbody>\n",
              "</table>\n",
              "<p>81 rows × 3 columns</p>\n",
              "</div>"
            ],
            "text/plain": [
              "    year               major_category   total\n",
              "0   2008                     Burglary   88092\n",
              "1   2008              Criminal Damage   91872\n",
              "2   2008                        Drugs   68804\n",
              "3   2008             Fraud or Forgery    5325\n",
              "4   2008    Other Notifiable Offences   10112\n",
              "..   ...                          ...     ...\n",
              "76  2016    Other Notifiable Offences   15809\n",
              "77  2016                      Robbery   22528\n",
              "78  2016              Sexual Offences       0\n",
              "79  2016           Theft and Handling  294133\n",
              "80  2016  Violence Against the Person  232381\n",
              "\n",
              "[81 rows x 3 columns]"
            ]
          },
          "metadata": {},
          "execution_count": 11
        }
      ]
    },
    {
      "cell_type": "markdown",
      "metadata": {
        "id": "UrnvtfvcYVat"
      },
      "source": [
        "Mengelompokkan nilai total dari tiap major_category berdasarkan index year"
      ]
    },
    {
      "cell_type": "code",
      "metadata": {
        "id": "ZSVKygkkk5Z6",
        "colab": {
          "base_uri": "https://localhost:8080/",
          "height": 376
        },
        "outputId": "66679cb8-d124-4bf4-f38b-59e447e5433b"
      },
      "source": [
        "total_ByYear = total_ByYear.pivot(index='year', columns='major_category', values='total')\n",
        "total_ByYear"
      ],
      "execution_count": null,
      "outputs": [
        {
          "output_type": "execute_result",
          "data": {
            "text/html": [
              "<div>\n",
              "<style scoped>\n",
              "    .dataframe tbody tr th:only-of-type {\n",
              "        vertical-align: middle;\n",
              "    }\n",
              "\n",
              "    .dataframe tbody tr th {\n",
              "        vertical-align: top;\n",
              "    }\n",
              "\n",
              "    .dataframe thead th {\n",
              "        text-align: right;\n",
              "    }\n",
              "</style>\n",
              "<table border=\"1\" class=\"dataframe\">\n",
              "  <thead>\n",
              "    <tr style=\"text-align: right;\">\n",
              "      <th>major_category</th>\n",
              "      <th>Burglary</th>\n",
              "      <th>Criminal Damage</th>\n",
              "      <th>Drugs</th>\n",
              "      <th>Fraud or Forgery</th>\n",
              "      <th>Other Notifiable Offences</th>\n",
              "      <th>Robbery</th>\n",
              "      <th>Sexual Offences</th>\n",
              "      <th>Theft and Handling</th>\n",
              "      <th>Violence Against the Person</th>\n",
              "    </tr>\n",
              "    <tr>\n",
              "      <th>year</th>\n",
              "      <th></th>\n",
              "      <th></th>\n",
              "      <th></th>\n",
              "      <th></th>\n",
              "      <th></th>\n",
              "      <th></th>\n",
              "      <th></th>\n",
              "      <th></th>\n",
              "      <th></th>\n",
              "    </tr>\n",
              "  </thead>\n",
              "  <tbody>\n",
              "    <tr>\n",
              "      <th>2008</th>\n",
              "      <td>88092</td>\n",
              "      <td>91872</td>\n",
              "      <td>68804</td>\n",
              "      <td>5325</td>\n",
              "      <td>10112</td>\n",
              "      <td>29627</td>\n",
              "      <td>1273</td>\n",
              "      <td>283692</td>\n",
              "      <td>159844</td>\n",
              "    </tr>\n",
              "    <tr>\n",
              "      <th>2009</th>\n",
              "      <td>90619</td>\n",
              "      <td>85565</td>\n",
              "      <td>60549</td>\n",
              "      <td>0</td>\n",
              "      <td>10644</td>\n",
              "      <td>29568</td>\n",
              "      <td>0</td>\n",
              "      <td>279492</td>\n",
              "      <td>160777</td>\n",
              "    </tr>\n",
              "    <tr>\n",
              "      <th>2010</th>\n",
              "      <td>86826</td>\n",
              "      <td>77897</td>\n",
              "      <td>58674</td>\n",
              "      <td>0</td>\n",
              "      <td>10768</td>\n",
              "      <td>32341</td>\n",
              "      <td>0</td>\n",
              "      <td>290924</td>\n",
              "      <td>157894</td>\n",
              "    </tr>\n",
              "    <tr>\n",
              "      <th>2011</th>\n",
              "      <td>93315</td>\n",
              "      <td>70914</td>\n",
              "      <td>57550</td>\n",
              "      <td>0</td>\n",
              "      <td>10264</td>\n",
              "      <td>36679</td>\n",
              "      <td>0</td>\n",
              "      <td>309292</td>\n",
              "      <td>146901</td>\n",
              "    </tr>\n",
              "    <tr>\n",
              "      <th>2012</th>\n",
              "      <td>93392</td>\n",
              "      <td>62158</td>\n",
              "      <td>51776</td>\n",
              "      <td>0</td>\n",
              "      <td>10675</td>\n",
              "      <td>35260</td>\n",
              "      <td>0</td>\n",
              "      <td>334054</td>\n",
              "      <td>150014</td>\n",
              "    </tr>\n",
              "    <tr>\n",
              "      <th>2013</th>\n",
              "      <td>87222</td>\n",
              "      <td>56206</td>\n",
              "      <td>50278</td>\n",
              "      <td>0</td>\n",
              "      <td>10811</td>\n",
              "      <td>29337</td>\n",
              "      <td>0</td>\n",
              "      <td>306372</td>\n",
              "      <td>146181</td>\n",
              "    </tr>\n",
              "    <tr>\n",
              "      <th>2014</th>\n",
              "      <td>76053</td>\n",
              "      <td>59279</td>\n",
              "      <td>44435</td>\n",
              "      <td>0</td>\n",
              "      <td>13037</td>\n",
              "      <td>22150</td>\n",
              "      <td>0</td>\n",
              "      <td>279880</td>\n",
              "      <td>185349</td>\n",
              "    </tr>\n",
              "    <tr>\n",
              "      <th>2015</th>\n",
              "      <td>70489</td>\n",
              "      <td>62976</td>\n",
              "      <td>39785</td>\n",
              "      <td>0</td>\n",
              "      <td>14229</td>\n",
              "      <td>21383</td>\n",
              "      <td>0</td>\n",
              "      <td>284022</td>\n",
              "      <td>218740</td>\n",
              "    </tr>\n",
              "    <tr>\n",
              "      <th>2016</th>\n",
              "      <td>68285</td>\n",
              "      <td>64071</td>\n",
              "      <td>38914</td>\n",
              "      <td>0</td>\n",
              "      <td>15809</td>\n",
              "      <td>22528</td>\n",
              "      <td>0</td>\n",
              "      <td>294133</td>\n",
              "      <td>232381</td>\n",
              "    </tr>\n",
              "  </tbody>\n",
              "</table>\n",
              "</div>"
            ],
            "text/plain": [
              "major_category  Burglary  ...  Violence Against the Person\n",
              "year                      ...                             \n",
              "2008               88092  ...                       159844\n",
              "2009               90619  ...                       160777\n",
              "2010               86826  ...                       157894\n",
              "2011               93315  ...                       146901\n",
              "2012               93392  ...                       150014\n",
              "2013               87222  ...                       146181\n",
              "2014               76053  ...                       185349\n",
              "2015               70489  ...                       218740\n",
              "2016               68285  ...                       232381\n",
              "\n",
              "[9 rows x 9 columns]"
            ]
          },
          "metadata": {},
          "execution_count": 12
        }
      ]
    },
    {
      "cell_type": "markdown",
      "metadata": {
        "id": "V-ruHCM5ZjO1"
      },
      "source": [
        "Visualisasi data menggunakan area plot"
      ]
    },
    {
      "cell_type": "code",
      "metadata": {
        "id": "Y0G3inn8kC_T",
        "colab": {
          "base_uri": "https://localhost:8080/",
          "height": 505
        },
        "outputId": "29a5fe2e-1926-4d7c-9a65-d1a7619189c8"
      },
      "source": [
        "plot = total_ByYear.plot(kind=\"area\",figsize=(22,10),alpha=0.5, stacked=False)\n",
        "plot.set_title(\"major Category\")"
      ],
      "execution_count": null,
      "outputs": [
        {
          "output_type": "execute_result",
          "data": {
            "text/plain": [
              "Text(0.5, 1.0, 'major Category')"
            ]
          },
          "metadata": {},
          "execution_count": 13
        },
        {
          "output_type": "display_data",
          "data": {
            "image/png": "[encoded data removed]",
            "text/plain": [
              "<Figure size 1584x720 with 1 Axes>"
            ]
          },
          "metadata": {
            "needs_background": "light"
          }
        }
      ]
    },
    {
      "cell_type": "markdown",
      "metadata": {
        "id": "c6jHQdTJhgra"
      },
      "source": [
        "Berdasarkan area plot tersebut category kejahatan paling tinggi tiap tahunnya merupakan Theft and Handling, dan category Violence Again Person naik drastis pada tahun 2013, sedangkan category lain mengalami penurunan."
      ]
    },
    {
      "cell_type": "markdown",
      "metadata": {
        "id": "98gelxF6XX_f"
      },
      "source": [
        "#Wafle Chart"
      ]
    },
    {
      "cell_type": "code",
      "metadata": {
        "id": "ayDTAwrlamTC",
        "colab": {
          "base_uri": "https://localhost:8080/",
          "height": 419
        },
        "outputId": "8fe1af3e-f618-48f0-8e4e-c62f96c7d63a"
      },
      "source": [
        "df_crime"
      ],
      "execution_count": null,
      "outputs": [
        {
          "output_type": "execute_result",
          "data": {
            "text/html": [
              "<div>\n",
              "<style scoped>\n",
              "    .dataframe tbody tr th:only-of-type {\n",
              "        vertical-align: middle;\n",
              "    }\n",
              "\n",
              "    .dataframe tbody tr th {\n",
              "        vertical-align: top;\n",
              "    }\n",
              "\n",
              "    .dataframe thead th {\n",
              "        text-align: right;\n",
              "    }\n",
              "</style>\n",
              "<table border=\"1\" class=\"dataframe\">\n",
              "  <thead>\n",
              "    <tr style=\"text-align: right;\">\n",
              "      <th></th>\n",
              "      <th>borough</th>\n",
              "      <th>major_category</th>\n",
              "      <th>minor_category</th>\n",
              "      <th>value</th>\n",
              "      <th>year</th>\n",
              "      <th>month</th>\n",
              "    </tr>\n",
              "  </thead>\n",
              "  <tbody>\n",
              "    <tr>\n",
              "      <th>0</th>\n",
              "      <td>Croydon</td>\n",
              "      <td>Burglary</td>\n",
              "      <td>Burglary in Other Buildings</td>\n",
              "      <td>0</td>\n",
              "      <td>2016</td>\n",
              "      <td>11</td>\n",
              "    </tr>\n",
              "    <tr>\n",
              "      <th>1</th>\n",
              "      <td>Greenwich</td>\n",
              "      <td>Violence Against the Person</td>\n",
              "      <td>Other violence</td>\n",
              "      <td>0</td>\n",
              "      <td>2016</td>\n",
              "      <td>11</td>\n",
              "    </tr>\n",
              "    <tr>\n",
              "      <th>2</th>\n",
              "      <td>Bromley</td>\n",
              "      <td>Violence Against the Person</td>\n",
              "      <td>Other violence</td>\n",
              "      <td>0</td>\n",
              "      <td>2015</td>\n",
              "      <td>5</td>\n",
              "    </tr>\n",
              "    <tr>\n",
              "      <th>3</th>\n",
              "      <td>Redbridge</td>\n",
              "      <td>Burglary</td>\n",
              "      <td>Burglary in Other Buildings</td>\n",
              "      <td>0</td>\n",
              "      <td>2016</td>\n",
              "      <td>3</td>\n",
              "    </tr>\n",
              "    <tr>\n",
              "      <th>4</th>\n",
              "      <td>Wandsworth</td>\n",
              "      <td>Robbery</td>\n",
              "      <td>Personal Property</td>\n",
              "      <td>0</td>\n",
              "      <td>2008</td>\n",
              "      <td>6</td>\n",
              "    </tr>\n",
              "    <tr>\n",
              "      <th>...</th>\n",
              "      <td>...</td>\n",
              "      <td>...</td>\n",
              "      <td>...</td>\n",
              "      <td>...</td>\n",
              "      <td>...</td>\n",
              "      <td>...</td>\n",
              "    </tr>\n",
              "    <tr>\n",
              "      <th>13490599</th>\n",
              "      <td>Brent</td>\n",
              "      <td>Criminal Damage</td>\n",
              "      <td>Criminal Damage To Dwelling</td>\n",
              "      <td>0</td>\n",
              "      <td>2015</td>\n",
              "      <td>2</td>\n",
              "    </tr>\n",
              "    <tr>\n",
              "      <th>13490600</th>\n",
              "      <td>Hillingdon</td>\n",
              "      <td>Robbery</td>\n",
              "      <td>Personal Property</td>\n",
              "      <td>1</td>\n",
              "      <td>2015</td>\n",
              "      <td>6</td>\n",
              "    </tr>\n",
              "    <tr>\n",
              "      <th>13490601</th>\n",
              "      <td>Sutton</td>\n",
              "      <td>Burglary</td>\n",
              "      <td>Burglary in a Dwelling</td>\n",
              "      <td>0</td>\n",
              "      <td>2011</td>\n",
              "      <td>2</td>\n",
              "    </tr>\n",
              "    <tr>\n",
              "      <th>13490602</th>\n",
              "      <td>Croydon</td>\n",
              "      <td>Robbery</td>\n",
              "      <td>Business Property</td>\n",
              "      <td>0</td>\n",
              "      <td>2011</td>\n",
              "      <td>5</td>\n",
              "    </tr>\n",
              "    <tr>\n",
              "      <th>13490603</th>\n",
              "      <td>Merton</td>\n",
              "      <td>Violence Against the Person</td>\n",
              "      <td>Wounding/GBH</td>\n",
              "      <td>0</td>\n",
              "      <td>2015</td>\n",
              "      <td>6</td>\n",
              "    </tr>\n",
              "  </tbody>\n",
              "</table>\n",
              "<p>13490604 rows × 6 columns</p>\n",
              "</div>"
            ],
            "text/plain": [
              "             borough               major_category  ...  year  month\n",
              "0            Croydon                     Burglary  ...  2016     11\n",
              "1          Greenwich  Violence Against the Person  ...  2016     11\n",
              "2            Bromley  Violence Against the Person  ...  2015      5\n",
              "3          Redbridge                     Burglary  ...  2016      3\n",
              "4         Wandsworth                      Robbery  ...  2008      6\n",
              "...              ...                          ...  ...   ...    ...\n",
              "13490599       Brent              Criminal Damage  ...  2015      2\n",
              "13490600  Hillingdon                      Robbery  ...  2015      6\n",
              "13490601      Sutton                     Burglary  ...  2011      2\n",
              "13490602     Croydon                      Robbery  ...  2011      5\n",
              "13490603      Merton  Violence Against the Person  ...  2015      6\n",
              "\n",
              "[13490604 rows x 6 columns]"
            ]
          },
          "metadata": {},
          "execution_count": 14
        }
      ]
    },
    {
      "cell_type": "markdown",
      "metadata": {
        "id": "_GCxE-SJZtwd"
      },
      "source": [
        "Mengambil 3 value teratas yang telah dijumlah berdasarkan borough"
      ]
    },
    {
      "cell_type": "code",
      "metadata": {
        "id": "EC9kp7uPgfEd",
        "colab": {
          "base_uri": "https://localhost:8080/",
          "height": 173
        },
        "outputId": "64b51d51-17d7-490a-d00d-a98a08d595ae"
      },
      "source": [
        "borough_ByVal = df_crime.groupby(['borough']).sum().drop(['month','year'],axis=1)\n",
        "borough_ByVal.sort_values(by='value', ascending=False, inplace=True)\n",
        "borough_ByVal = borough_ByVal.head(3)\n",
        "borough_ByVal"
      ],
      "execution_count": null,
      "outputs": [
        {
          "output_type": "execute_result",
          "data": {
            "text/html": [
              "<div>\n",
              "<style scoped>\n",
              "    .dataframe tbody tr th:only-of-type {\n",
              "        vertical-align: middle;\n",
              "    }\n",
              "\n",
              "    .dataframe tbody tr th {\n",
              "        vertical-align: top;\n",
              "    }\n",
              "\n",
              "    .dataframe thead th {\n",
              "        text-align: right;\n",
              "    }\n",
              "</style>\n",
              "<table border=\"1\" class=\"dataframe\">\n",
              "  <thead>\n",
              "    <tr style=\"text-align: right;\">\n",
              "      <th></th>\n",
              "      <th>value</th>\n",
              "    </tr>\n",
              "    <tr>\n",
              "      <th>borough</th>\n",
              "      <th></th>\n",
              "    </tr>\n",
              "  </thead>\n",
              "  <tbody>\n",
              "    <tr>\n",
              "      <th>Westminster</th>\n",
              "      <td>455028</td>\n",
              "    </tr>\n",
              "    <tr>\n",
              "      <th>Lambeth</th>\n",
              "      <td>292178</td>\n",
              "    </tr>\n",
              "    <tr>\n",
              "      <th>Southwark</th>\n",
              "      <td>278809</td>\n",
              "    </tr>\n",
              "  </tbody>\n",
              "</table>\n",
              "</div>"
            ],
            "text/plain": [
              "              value\n",
              "borough            \n",
              "Westminster  455028\n",
              "Lambeth      292178\n",
              "Southwark    278809"
            ]
          },
          "metadata": {},
          "execution_count": 15
        }
      ]
    },
    {
      "cell_type": "markdown",
      "metadata": {
        "id": "Y8meqekvaAaF"
      },
      "source": [
        "mencari total jumlah dari value"
      ]
    },
    {
      "cell_type": "code",
      "metadata": {
        "id": "eZM0_3hrg4g7",
        "colab": {
          "base_uri": "https://localhost:8080/"
        },
        "outputId": "80555d76-999d-4893-bcee-96010b5fd3b3"
      },
      "source": [
        "total_top3 = sum(borough_ByVal.value)\n",
        "total_top3"
      ],
      "execution_count": null,
      "outputs": [
        {
          "output_type": "execute_result",
          "data": {
            "text/plain": [
              "1026015"
            ]
          },
          "metadata": {},
          "execution_count": 16
        }
      ]
    },
    {
      "cell_type": "markdown",
      "metadata": {
        "id": "NB4_JOOVaRE9"
      },
      "source": [
        "membuat porsi value yang nantinya digunakan untuk menentukan jumlah tiles tiap borough"
      ]
    },
    {
      "cell_type": "code",
      "metadata": {
        "id": "kO5To2Lzh4ia",
        "colab": {
          "base_uri": "https://localhost:8080/"
        },
        "outputId": "79fcaf07-da62-442f-8e52-ffd8417d2d87"
      },
      "source": [
        "proportion = [(float(val)/total_top3) for val in borough_ByVal.value]\n",
        "for idx, porsion in enumerate(proportion):\n",
        "  print(borough_ByVal.index.values[idx], porsion)"
      ],
      "execution_count": null,
      "outputs": [
        {
          "output_type": "stream",
          "name": "stdout",
          "text": [
            "Westminster 0.44349059224280346\n",
            "Lambeth 0.284769715842361\n",
            "Southwark 0.27173969191483555\n"
          ]
        }
      ]
    },
    {
      "cell_type": "markdown",
      "metadata": {
        "id": "-Y404lEMa7k9"
      },
      "source": [
        "Menentukan batas dari tile atau total tile"
      ]
    },
    {
      "cell_type": "code",
      "metadata": {
        "id": "y_kIAse2i1qt",
        "colab": {
          "base_uri": "https://localhost:8080/"
        },
        "outputId": "395fc9c4-c865-4c2d-fa0b-d63c44066a19"
      },
      "source": [
        "width, height = (50, 10)\n",
        "total_tiles = width * height\n",
        "total_tiles"
      ],
      "execution_count": null,
      "outputs": [
        {
          "output_type": "execute_result",
          "data": {
            "text/plain": [
              "500"
            ]
          },
          "metadata": {},
          "execution_count": 18
        }
      ]
    },
    {
      "cell_type": "markdown",
      "metadata": {
        "id": "PvCB7vUmarek"
      },
      "source": [
        "menentukan jumlah tiles tiap borough"
      ]
    },
    {
      "cell_type": "code",
      "metadata": {
        "id": "LYJzxJHOjZ0z",
        "colab": {
          "base_uri": "https://localhost:8080/"
        },
        "outputId": "45333fe6-87f3-421d-e00b-7deb6804789a"
      },
      "source": [
        "tiles_per_borough = [round(porsion * total_tiles) for porsion in proportion]\n",
        "tiles_per_borough"
      ],
      "execution_count": null,
      "outputs": [
        {
          "output_type": "execute_result",
          "data": {
            "text/plain": [
              "[222, 142, 136]"
            ]
          },
          "metadata": {},
          "execution_count": 19
        }
      ]
    },
    {
      "cell_type": "markdown",
      "metadata": {
        "id": "M8tEim6WavsE"
      },
      "source": [
        "membuat tiles tiap borough dalam bentuk array"
      ]
    },
    {
      "cell_type": "code",
      "metadata": {
        "id": "yQAFPgFfjuZk",
        "colab": {
          "base_uri": "https://localhost:8080/"
        },
        "outputId": "45d365a9-3522-4364-990c-4ae8c86dfe30"
      },
      "source": [
        "tile_index = 0\n",
        "borough_index = 0\n",
        "waffle_chart = np.zeros((width,height))\n",
        "\n",
        "for col in range(width):\n",
        "  for row in range(height):\n",
        "    tile_index += 1\n",
        "    if tile_index > sum(tiles_per_borough[0: borough_index]):\n",
        "      borough_index += 1\n",
        "      \n",
        "    waffle_chart[col, height - (row + 1)] = borough_index\n",
        "\n",
        "waffle_chart"
      ],
      "execution_count": null,
      "outputs": [
        {
          "output_type": "execute_result",
          "data": {
            "text/plain": [
              "array([[1., 1., 1., 1., 1., 1., 1., 1., 1., 1.],\n",
              "       [1., 1., 1., 1., 1., 1., 1., 1., 1., 1.],\n",
              "       [1., 1., 1., 1., 1., 1., 1., 1., 1., 1.],\n",
              "       [1., 1., 1., 1., 1., 1., 1., 1., 1., 1.],\n",
              "       [1., 1., 1., 1., 1., 1., 1., 1., 1., 1.],\n",
              "       [1., 1., 1., 1., 1., 1., 1., 1., 1., 1.],\n",
              "       [1., 1., 1., 1., 1., 1., 1., 1., 1., 1.],\n",
              "       [1., 1., 1., 1., 1., 1., 1., 1., 1., 1.],\n",
              "       [1., 1., 1., 1., 1., 1., 1., 1., 1., 1.],\n",
              "       [1., 1., 1., 1., 1., 1., 1., 1., 1., 1.],\n",
              "       [1., 1., 1., 1., 1., 1., 1., 1., 1., 1.],\n",
              "       [1., 1., 1., 1., 1., 1., 1., 1., 1., 1.],\n",
              "       [1., 1., 1., 1., 1., 1., 1., 1., 1., 1.],\n",
              "       [1., 1., 1., 1., 1., 1., 1., 1., 1., 1.],\n",
              "       [1., 1., 1., 1., 1., 1., 1., 1., 1., 1.],\n",
              "       [1., 1., 1., 1., 1., 1., 1., 1., 1., 1.],\n",
              "       [1., 1., 1., 1., 1., 1., 1., 1., 1., 1.],\n",
              "       [1., 1., 1., 1., 1., 1., 1., 1., 1., 1.],\n",
              "       [1., 1., 1., 1., 1., 1., 1., 1., 1., 1.],\n",
              "       [1., 1., 1., 1., 1., 1., 1., 1., 1., 1.],\n",
              "       [1., 1., 1., 1., 1., 1., 1., 1., 1., 1.],\n",
              "       [1., 1., 1., 1., 1., 1., 1., 1., 1., 1.],\n",
              "       [2., 2., 2., 2., 2., 2., 2., 2., 1., 1.],\n",
              "       [2., 2., 2., 2., 2., 2., 2., 2., 2., 2.],\n",
              "       [2., 2., 2., 2., 2., 2., 2., 2., 2., 2.],\n",
              "       [2., 2., 2., 2., 2., 2., 2., 2., 2., 2.],\n",
              "       [2., 2., 2., 2., 2., 2., 2., 2., 2., 2.],\n",
              "       [2., 2., 2., 2., 2., 2., 2., 2., 2., 2.],\n",
              "       [2., 2., 2., 2., 2., 2., 2., 2., 2., 2.],\n",
              "       [2., 2., 2., 2., 2., 2., 2., 2., 2., 2.],\n",
              "       [2., 2., 2., 2., 2., 2., 2., 2., 2., 2.],\n",
              "       [2., 2., 2., 2., 2., 2., 2., 2., 2., 2.],\n",
              "       [2., 2., 2., 2., 2., 2., 2., 2., 2., 2.],\n",
              "       [2., 2., 2., 2., 2., 2., 2., 2., 2., 2.],\n",
              "       [2., 2., 2., 2., 2., 2., 2., 2., 2., 2.],\n",
              "       [2., 2., 2., 2., 2., 2., 2., 2., 2., 2.],\n",
              "       [3., 3., 3., 3., 3., 3., 2., 2., 2., 2.],\n",
              "       [3., 3., 3., 3., 3., 3., 3., 3., 3., 3.],\n",
              "       [3., 3., 3., 3., 3., 3., 3., 3., 3., 3.],\n",
              "       [3., 3., 3., 3., 3., 3., 3., 3., 3., 3.],\n",
              "       [3., 3., 3., 3., 3., 3., 3., 3., 3., 3.],\n",
              "       [3., 3., 3., 3., 3., 3., 3., 3., 3., 3.],\n",
              "       [3., 3., 3., 3., 3., 3., 3., 3., 3., 3.],\n",
              "       [3., 3., 3., 3., 3., 3., 3., 3., 3., 3.],\n",
              "       [3., 3., 3., 3., 3., 3., 3., 3., 3., 3.],\n",
              "       [3., 3., 3., 3., 3., 3., 3., 3., 3., 3.],\n",
              "       [3., 3., 3., 3., 3., 3., 3., 3., 3., 3.],\n",
              "       [3., 3., 3., 3., 3., 3., 3., 3., 3., 3.],\n",
              "       [3., 3., 3., 3., 3., 3., 3., 3., 3., 3.],\n",
              "       [3., 3., 3., 3., 3., 3., 3., 3., 3., 3.]])"
            ]
          },
          "metadata": {},
          "execution_count": 20
        }
      ]
    },
    {
      "cell_type": "markdown",
      "metadata": {
        "id": "mFphrz2zbhuE"
      },
      "source": [
        "mengubah dimensi orientasi array tiles dari vertikal ke horizontal"
      ]
    },
    {
      "cell_type": "code",
      "metadata": {
        "id": "z6OvGvfxlR_Z"
      },
      "source": [
        "waffle_chart = waffle_chart.transpose()"
      ],
      "execution_count": null,
      "outputs": []
    },
    {
      "cell_type": "markdown",
      "metadata": {
        "id": "3cFvyzGjb0BM"
      },
      "source": [
        "visualisasi array tiles"
      ]
    },
    {
      "cell_type": "code",
      "metadata": {
        "id": "-f57JqIpqzn6"
      },
      "source": [
        "import matplotlib.patches as mpatches"
      ],
      "execution_count": null,
      "outputs": []
    },
    {
      "cell_type": "code",
      "metadata": {
        "id": "l9k90ZvMngLi",
        "colab": {
          "base_uri": "https://localhost:8080/",
          "height": 253
        },
        "outputId": "c7f7d85f-f197-4719-a141-2008fccacd89"
      },
      "source": [
        "fig = plt.figure()\n",
        "colormap = plt.cm.coolwarm\n",
        "plt.matshow(waffle_chart, cmap = colormap)\n",
        "plt.colorbar()\n",
        "ax = plt.gca()\n",
        "ax.set_xticks(np.arange(-.5, (width), 1), minor=True);\n",
        "ax.set_yticks(np.arange(-.5, (height), 1), minor=True);\n",
        "ax.grid(which='minor', color='w', linestyle='-', linewidth=2)\n",
        "\n",
        "#menambahkan label \n",
        "plt.xticks([])\n",
        "plt.yticks([])\n",
        "\n",
        "values_cumsum = np.cumsum(borough_ByVal['value'])\n",
        "total_values = values_cumsum[len(values_cumsum) - 1]\n",
        "\n",
        "legend_handles = []\n",
        "for i, borough in enumerate(borough_ByVal.index.values):\n",
        "    label_str = borough + ' (' + str(borough_ByVal['value'][i]) + ')'\n",
        "    color_val = colormap(float(values_cumsum[i])/total_values)\n",
        "    legend_handles.append(mpatches.Patch(color=color_val, label=label_str))\n",
        "\n",
        "plt.legend(handles=legend_handles,\n",
        "           loc='lower center', \n",
        "           ncol=len(borough_ByVal.index.values),\n",
        "           bbox_to_anchor=(0., -0.2, 0.95, .1)\n",
        "          )"
      ],
      "execution_count": null,
      "outputs": [
        {
          "output_type": "execute_result",
          "data": {
            "text/plain": [
              "<matplotlib.legend.Legend at 0x7fad9aeed490>"
            ]
          },
          "metadata": {},
          "execution_count": 39
        },
        {
          "output_type": "display_data",
          "data": {
            "text/plain": [
              "<Figure size 432x288 with 0 Axes>"
            ]
          },
          "metadata": {}
        },
        {
          "output_type": "display_data",
          "data": {
            "image/png": "[encoded data removed]",
            "text/plain": [
              "<Figure size 1152x230.4 with 2 Axes>"
            ]
          },
          "metadata": {
            "needs_background": "light"
          }
        }
      ]
    },
    {
      "cell_type": "markdown",
      "metadata": {
        "id": "FiQfyZDhhc_X"
      },
      "source": [
        "Berdasarkan Chart tersebut kota yang sering mengalami kasus kejahatan merupakan Westminster."
      ]
    },
    {
      "cell_type": "markdown",
      "metadata": {
        "id": "SgDVGRV4LZxr"
      },
      "source": [
        "#Pie Chart"
      ]
    },
    {
      "cell_type": "code",
      "metadata": {
        "id": "sYcjkLcnKLyR",
        "colab": {
          "base_uri": "https://localhost:8080/",
          "height": 376
        },
        "outputId": "66923b37-2f69-422e-a1bb-8e0b1b39247b"
      },
      "source": [
        "total_ByYear"
      ],
      "execution_count": null,
      "outputs": [
        {
          "output_type": "execute_result",
          "data": {
            "text/html": [
              "<div>\n",
              "<style scoped>\n",
              "    .dataframe tbody tr th:only-of-type {\n",
              "        vertical-align: middle;\n",
              "    }\n",
              "\n",
              "    .dataframe tbody tr th {\n",
              "        vertical-align: top;\n",
              "    }\n",
              "\n",
              "    .dataframe thead th {\n",
              "        text-align: right;\n",
              "    }\n",
              "</style>\n",
              "<table border=\"1\" class=\"dataframe\">\n",
              "  <thead>\n",
              "    <tr style=\"text-align: right;\">\n",
              "      <th>major_category</th>\n",
              "      <th>Burglary</th>\n",
              "      <th>Criminal Damage</th>\n",
              "      <th>Drugs</th>\n",
              "      <th>Fraud or Forgery</th>\n",
              "      <th>Other Notifiable Offences</th>\n",
              "      <th>Robbery</th>\n",
              "      <th>Sexual Offences</th>\n",
              "      <th>Theft and Handling</th>\n",
              "      <th>Violence Against the Person</th>\n",
              "    </tr>\n",
              "    <tr>\n",
              "      <th>year</th>\n",
              "      <th></th>\n",
              "      <th></th>\n",
              "      <th></th>\n",
              "      <th></th>\n",
              "      <th></th>\n",
              "      <th></th>\n",
              "      <th></th>\n",
              "      <th></th>\n",
              "      <th></th>\n",
              "    </tr>\n",
              "  </thead>\n",
              "  <tbody>\n",
              "    <tr>\n",
              "      <th>2008</th>\n",
              "      <td>88092</td>\n",
              "      <td>91872</td>\n",
              "      <td>68804</td>\n",
              "      <td>5325</td>\n",
              "      <td>10112</td>\n",
              "      <td>29627</td>\n",
              "      <td>1273</td>\n",
              "      <td>283692</td>\n",
              "      <td>159844</td>\n",
              "    </tr>\n",
              "    <tr>\n",
              "      <th>2009</th>\n",
              "      <td>90619</td>\n",
              "      <td>85565</td>\n",
              "      <td>60549</td>\n",
              "      <td>0</td>\n",
              "      <td>10644</td>\n",
              "      <td>29568</td>\n",
              "      <td>0</td>\n",
              "      <td>279492</td>\n",
              "      <td>160777</td>\n",
              "    </tr>\n",
              "    <tr>\n",
              "      <th>2010</th>\n",
              "      <td>86826</td>\n",
              "      <td>77897</td>\n",
              "      <td>58674</td>\n",
              "      <td>0</td>\n",
              "      <td>10768</td>\n",
              "      <td>32341</td>\n",
              "      <td>0</td>\n",
              "      <td>290924</td>\n",
              "      <td>157894</td>\n",
              "    </tr>\n",
              "    <tr>\n",
              "      <th>2011</th>\n",
              "      <td>93315</td>\n",
              "      <td>70914</td>\n",
              "      <td>57550</td>\n",
              "      <td>0</td>\n",
              "      <td>10264</td>\n",
              "      <td>36679</td>\n",
              "      <td>0</td>\n",
              "      <td>309292</td>\n",
              "      <td>146901</td>\n",
              "    </tr>\n",
              "    <tr>\n",
              "      <th>2012</th>\n",
              "      <td>93392</td>\n",
              "      <td>62158</td>\n",
              "      <td>51776</td>\n",
              "      <td>0</td>\n",
              "      <td>10675</td>\n",
              "      <td>35260</td>\n",
              "      <td>0</td>\n",
              "      <td>334054</td>\n",
              "      <td>150014</td>\n",
              "    </tr>\n",
              "    <tr>\n",
              "      <th>2013</th>\n",
              "      <td>87222</td>\n",
              "      <td>56206</td>\n",
              "      <td>50278</td>\n",
              "      <td>0</td>\n",
              "      <td>10811</td>\n",
              "      <td>29337</td>\n",
              "      <td>0</td>\n",
              "      <td>306372</td>\n",
              "      <td>146181</td>\n",
              "    </tr>\n",
              "    <tr>\n",
              "      <th>2014</th>\n",
              "      <td>76053</td>\n",
              "      <td>59279</td>\n",
              "      <td>44435</td>\n",
              "      <td>0</td>\n",
              "      <td>13037</td>\n",
              "      <td>22150</td>\n",
              "      <td>0</td>\n",
              "      <td>279880</td>\n",
              "      <td>185349</td>\n",
              "    </tr>\n",
              "    <tr>\n",
              "      <th>2015</th>\n",
              "      <td>70489</td>\n",
              "      <td>62976</td>\n",
              "      <td>39785</td>\n",
              "      <td>0</td>\n",
              "      <td>14229</td>\n",
              "      <td>21383</td>\n",
              "      <td>0</td>\n",
              "      <td>284022</td>\n",
              "      <td>218740</td>\n",
              "    </tr>\n",
              "    <tr>\n",
              "      <th>2016</th>\n",
              "      <td>68285</td>\n",
              "      <td>64071</td>\n",
              "      <td>38914</td>\n",
              "      <td>0</td>\n",
              "      <td>15809</td>\n",
              "      <td>22528</td>\n",
              "      <td>0</td>\n",
              "      <td>294133</td>\n",
              "      <td>232381</td>\n",
              "    </tr>\n",
              "  </tbody>\n",
              "</table>\n",
              "</div>"
            ],
            "text/plain": [
              "major_category  Burglary  ...  Violence Against the Person\n",
              "year                      ...                             \n",
              "2008               88092  ...                       159844\n",
              "2009               90619  ...                       160777\n",
              "2010               86826  ...                       157894\n",
              "2011               93315  ...                       146901\n",
              "2012               93392  ...                       150014\n",
              "2013               87222  ...                       146181\n",
              "2014               76053  ...                       185349\n",
              "2015               70489  ...                       218740\n",
              "2016               68285  ...                       232381\n",
              "\n",
              "[9 rows x 9 columns]"
            ]
          },
          "metadata": {},
          "execution_count": 25
        }
      ]
    },
    {
      "cell_type": "markdown",
      "metadata": {
        "id": "xtoULBFNcFZQ"
      },
      "source": [
        "mengubah dimensi orientasi data total_ByYear lalu membuat colom total dengan value jumlah dari major_category tiap tahun"
      ]
    },
    {
      "cell_type": "code",
      "metadata": {
        "id": "lqo97UakOsi6",
        "colab": {
          "base_uri": "https://localhost:8080/",
          "height": 359
        },
        "outputId": "f67141ce-4c30-493a-87dc-4a7e6a0e7228"
      },
      "source": [
        "total_ByCategory = total_ByYear.transpose()\n",
        "total_ByCategory['Total'] = total_ByCategory.sum(axis=1)\n",
        "total_ByCategory "
      ],
      "execution_count": null,
      "outputs": [
        {
          "output_type": "execute_result",
          "data": {
            "text/html": [
              "<div>\n",
              "<style scoped>\n",
              "    .dataframe tbody tr th:only-of-type {\n",
              "        vertical-align: middle;\n",
              "    }\n",
              "\n",
              "    .dataframe tbody tr th {\n",
              "        vertical-align: top;\n",
              "    }\n",
              "\n",
              "    .dataframe thead th {\n",
              "        text-align: right;\n",
              "    }\n",
              "</style>\n",
              "<table border=\"1\" class=\"dataframe\">\n",
              "  <thead>\n",
              "    <tr style=\"text-align: right;\">\n",
              "      <th>year</th>\n",
              "      <th>2008</th>\n",
              "      <th>2009</th>\n",
              "      <th>2010</th>\n",
              "      <th>2011</th>\n",
              "      <th>2012</th>\n",
              "      <th>2013</th>\n",
              "      <th>2014</th>\n",
              "      <th>2015</th>\n",
              "      <th>2016</th>\n",
              "      <th>Total</th>\n",
              "    </tr>\n",
              "    <tr>\n",
              "      <th>major_category</th>\n",
              "      <th></th>\n",
              "      <th></th>\n",
              "      <th></th>\n",
              "      <th></th>\n",
              "      <th></th>\n",
              "      <th></th>\n",
              "      <th></th>\n",
              "      <th></th>\n",
              "      <th></th>\n",
              "      <th></th>\n",
              "    </tr>\n",
              "  </thead>\n",
              "  <tbody>\n",
              "    <tr>\n",
              "      <th>Burglary</th>\n",
              "      <td>88092</td>\n",
              "      <td>90619</td>\n",
              "      <td>86826</td>\n",
              "      <td>93315</td>\n",
              "      <td>93392</td>\n",
              "      <td>87222</td>\n",
              "      <td>76053</td>\n",
              "      <td>70489</td>\n",
              "      <td>68285</td>\n",
              "      <td>754293</td>\n",
              "    </tr>\n",
              "    <tr>\n",
              "      <th>Criminal Damage</th>\n",
              "      <td>91872</td>\n",
              "      <td>85565</td>\n",
              "      <td>77897</td>\n",
              "      <td>70914</td>\n",
              "      <td>62158</td>\n",
              "      <td>56206</td>\n",
              "      <td>59279</td>\n",
              "      <td>62976</td>\n",
              "      <td>64071</td>\n",
              "      <td>630938</td>\n",
              "    </tr>\n",
              "    <tr>\n",
              "      <th>Drugs</th>\n",
              "      <td>68804</td>\n",
              "      <td>60549</td>\n",
              "      <td>58674</td>\n",
              "      <td>57550</td>\n",
              "      <td>51776</td>\n",
              "      <td>50278</td>\n",
              "      <td>44435</td>\n",
              "      <td>39785</td>\n",
              "      <td>38914</td>\n",
              "      <td>470765</td>\n",
              "    </tr>\n",
              "    <tr>\n",
              "      <th>Fraud or Forgery</th>\n",
              "      <td>5325</td>\n",
              "      <td>0</td>\n",
              "      <td>0</td>\n",
              "      <td>0</td>\n",
              "      <td>0</td>\n",
              "      <td>0</td>\n",
              "      <td>0</td>\n",
              "      <td>0</td>\n",
              "      <td>0</td>\n",
              "      <td>5325</td>\n",
              "    </tr>\n",
              "    <tr>\n",
              "      <th>Other Notifiable Offences</th>\n",
              "      <td>10112</td>\n",
              "      <td>10644</td>\n",
              "      <td>10768</td>\n",
              "      <td>10264</td>\n",
              "      <td>10675</td>\n",
              "      <td>10811</td>\n",
              "      <td>13037</td>\n",
              "      <td>14229</td>\n",
              "      <td>15809</td>\n",
              "      <td>106349</td>\n",
              "    </tr>\n",
              "    <tr>\n",
              "      <th>Robbery</th>\n",
              "      <td>29627</td>\n",
              "      <td>29568</td>\n",
              "      <td>32341</td>\n",
              "      <td>36679</td>\n",
              "      <td>35260</td>\n",
              "      <td>29337</td>\n",
              "      <td>22150</td>\n",
              "      <td>21383</td>\n",
              "      <td>22528</td>\n",
              "      <td>258873</td>\n",
              "    </tr>\n",
              "    <tr>\n",
              "      <th>Sexual Offences</th>\n",
              "      <td>1273</td>\n",
              "      <td>0</td>\n",
              "      <td>0</td>\n",
              "      <td>0</td>\n",
              "      <td>0</td>\n",
              "      <td>0</td>\n",
              "      <td>0</td>\n",
              "      <td>0</td>\n",
              "      <td>0</td>\n",
              "      <td>1273</td>\n",
              "    </tr>\n",
              "    <tr>\n",
              "      <th>Theft and Handling</th>\n",
              "      <td>283692</td>\n",
              "      <td>279492</td>\n",
              "      <td>290924</td>\n",
              "      <td>309292</td>\n",
              "      <td>334054</td>\n",
              "      <td>306372</td>\n",
              "      <td>279880</td>\n",
              "      <td>284022</td>\n",
              "      <td>294133</td>\n",
              "      <td>2661861</td>\n",
              "    </tr>\n",
              "    <tr>\n",
              "      <th>Violence Against the Person</th>\n",
              "      <td>159844</td>\n",
              "      <td>160777</td>\n",
              "      <td>157894</td>\n",
              "      <td>146901</td>\n",
              "      <td>150014</td>\n",
              "      <td>146181</td>\n",
              "      <td>185349</td>\n",
              "      <td>218740</td>\n",
              "      <td>232381</td>\n",
              "      <td>1558081</td>\n",
              "    </tr>\n",
              "  </tbody>\n",
              "</table>\n",
              "</div>"
            ],
            "text/plain": [
              "year                           2008    2009    2010  ...    2015    2016    Total\n",
              "major_category                                       ...                         \n",
              "Burglary                      88092   90619   86826  ...   70489   68285   754293\n",
              "Criminal Damage               91872   85565   77897  ...   62976   64071   630938\n",
              "Drugs                         68804   60549   58674  ...   39785   38914   470765\n",
              "Fraud or Forgery               5325       0       0  ...       0       0     5325\n",
              "Other Notifiable Offences     10112   10644   10768  ...   14229   15809   106349\n",
              "Robbery                       29627   29568   32341  ...   21383   22528   258873\n",
              "Sexual Offences                1273       0       0  ...       0       0     1273\n",
              "Theft and Handling           283692  279492  290924  ...  284022  294133  2661861\n",
              "Violence Against the Person  159844  160777  157894  ...  218740  232381  1558081\n",
              "\n",
              "[9 rows x 10 columns]"
            ]
          },
          "metadata": {},
          "execution_count": 26
        }
      ]
    },
    {
      "cell_type": "markdown",
      "metadata": {
        "id": "sigOpoo-cfsM"
      },
      "source": [
        "Visualisasi data dengan pie chart"
      ]
    },
    {
      "cell_type": "code",
      "metadata": {
        "id": "jKWBSKWXScxT",
        "colab": {
          "base_uri": "https://localhost:8080/",
          "height": 575
        },
        "outputId": "5d9a5f0c-2545-47ea-9eb5-a01642f15daa"
      },
      "source": [
        "fig, plot = plt.subplots()\n",
        "plot.pie(total_ByCategory.Total, explode=(0,0,0,0,0,0,0,0.1,0), labels=total_ByCategory.index, autopct='%.2f%%',\n",
        "         shadow=True, startangle=45)\n",
        "plot.axis('equal')\n",
        "fig.set_size_inches(10,10)\n",
        "plt.show()"
      ],
      "execution_count": null,
      "outputs": [
        {
          "output_type": "display_data",
          "data": {
            "image/png": "[encoded data removed]",
            "text/plain": [
              "<Figure size 720x720 with 1 Axes>"
            ]
          },
          "metadata": {}
        }
      ]
    },
    {
      "cell_type": "markdown",
      "metadata": {
        "id": "Z1_9xmbfg-er"
      },
      "source": [
        "Berdasarkan pie chart tersebut, category Theft and Handling memiliki persentase paling tinggi dibanding category yang lain. dan Sexual Offense memiliki persentasi paling rendah."
      ]
    },
    {
      "cell_type": "markdown",
      "metadata": {
        "id": "lPWgL4WEcmzL"
      },
      "source": [
        "Meringkas menjadi top 5 category"
      ]
    },
    {
      "cell_type": "code",
      "metadata": {
        "id": "1cGJFyaf12oK",
        "colab": {
          "base_uri": "https://localhost:8080/",
          "height": 575
        },
        "outputId": "4ab500e3-4c14-40ae-c299-5508cfd8e684"
      },
      "source": [
        "top5crime = total_ByCategory.sort_values(by='Total', ascending=False).head(5)\n",
        "fig, plot = plt.subplots()\n",
        "plot.pie(top5crime.Total, explode=(0.1,0,0,0,0), labels=top5crime.index, autopct='%.2f%%', shadow=True, startangle=90)\n",
        "plot.axis('equal')\n",
        "fig.set_size_inches(10,10)\n",
        "plt.show()"
      ],
      "execution_count": null,
      "outputs": [
        {
          "output_type": "display_data",
          "data": {
            "image/png": "[encoded data removed]",
            "text/plain": [
              "<Figure size 720x720 with 1 Axes>"
            ]
          },
          "metadata": {}
        }
      ]
    },
    {
      "cell_type": "markdown",
      "metadata": {
        "id": "fCBnL0I81YP6"
      },
      "source": [
        "# Bar Chart"
      ]
    },
    {
      "cell_type": "code",
      "metadata": {
        "id": "bddy4qdrEhYh",
        "colab": {
          "base_uri": "https://localhost:8080/",
          "height": 235
        },
        "outputId": "0a4e5497-a827-4a40-bd7d-136b89fa1258"
      },
      "source": [
        "top5crime"
      ],
      "execution_count": null,
      "outputs": [
        {
          "output_type": "execute_result",
          "data": {
            "text/html": [
              "<div>\n",
              "<style scoped>\n",
              "    .dataframe tbody tr th:only-of-type {\n",
              "        vertical-align: middle;\n",
              "    }\n",
              "\n",
              "    .dataframe tbody tr th {\n",
              "        vertical-align: top;\n",
              "    }\n",
              "\n",
              "    .dataframe thead th {\n",
              "        text-align: right;\n",
              "    }\n",
              "</style>\n",
              "<table border=\"1\" class=\"dataframe\">\n",
              "  <thead>\n",
              "    <tr style=\"text-align: right;\">\n",
              "      <th>year</th>\n",
              "      <th>2008</th>\n",
              "      <th>2009</th>\n",
              "      <th>2010</th>\n",
              "      <th>2011</th>\n",
              "      <th>2012</th>\n",
              "      <th>2013</th>\n",
              "      <th>2014</th>\n",
              "      <th>2015</th>\n",
              "      <th>2016</th>\n",
              "      <th>Total</th>\n",
              "    </tr>\n",
              "    <tr>\n",
              "      <th>major_category</th>\n",
              "      <th></th>\n",
              "      <th></th>\n",
              "      <th></th>\n",
              "      <th></th>\n",
              "      <th></th>\n",
              "      <th></th>\n",
              "      <th></th>\n",
              "      <th></th>\n",
              "      <th></th>\n",
              "      <th></th>\n",
              "    </tr>\n",
              "  </thead>\n",
              "  <tbody>\n",
              "    <tr>\n",
              "      <th>Theft and Handling</th>\n",
              "      <td>283692</td>\n",
              "      <td>279492</td>\n",
              "      <td>290924</td>\n",
              "      <td>309292</td>\n",
              "      <td>334054</td>\n",
              "      <td>306372</td>\n",
              "      <td>279880</td>\n",
              "      <td>284022</td>\n",
              "      <td>294133</td>\n",
              "      <td>2661861</td>\n",
              "    </tr>\n",
              "    <tr>\n",
              "      <th>Violence Against the Person</th>\n",
              "      <td>159844</td>\n",
              "      <td>160777</td>\n",
              "      <td>157894</td>\n",
              "      <td>146901</td>\n",
              "      <td>150014</td>\n",
              "      <td>146181</td>\n",
              "      <td>185349</td>\n",
              "      <td>218740</td>\n",
              "      <td>232381</td>\n",
              "      <td>1558081</td>\n",
              "    </tr>\n",
              "    <tr>\n",
              "      <th>Burglary</th>\n",
              "      <td>88092</td>\n",
              "      <td>90619</td>\n",
              "      <td>86826</td>\n",
              "      <td>93315</td>\n",
              "      <td>93392</td>\n",
              "      <td>87222</td>\n",
              "      <td>76053</td>\n",
              "      <td>70489</td>\n",
              "      <td>68285</td>\n",
              "      <td>754293</td>\n",
              "    </tr>\n",
              "    <tr>\n",
              "      <th>Criminal Damage</th>\n",
              "      <td>91872</td>\n",
              "      <td>85565</td>\n",
              "      <td>77897</td>\n",
              "      <td>70914</td>\n",
              "      <td>62158</td>\n",
              "      <td>56206</td>\n",
              "      <td>59279</td>\n",
              "      <td>62976</td>\n",
              "      <td>64071</td>\n",
              "      <td>630938</td>\n",
              "    </tr>\n",
              "    <tr>\n",
              "      <th>Drugs</th>\n",
              "      <td>68804</td>\n",
              "      <td>60549</td>\n",
              "      <td>58674</td>\n",
              "      <td>57550</td>\n",
              "      <td>51776</td>\n",
              "      <td>50278</td>\n",
              "      <td>44435</td>\n",
              "      <td>39785</td>\n",
              "      <td>38914</td>\n",
              "      <td>470765</td>\n",
              "    </tr>\n",
              "  </tbody>\n",
              "</table>\n",
              "</div>"
            ],
            "text/plain": [
              "year                           2008    2009    2010  ...    2015    2016    Total\n",
              "major_category                                       ...                         \n",
              "Theft and Handling           283692  279492  290924  ...  284022  294133  2661861\n",
              "Violence Against the Person  159844  160777  157894  ...  218740  232381  1558081\n",
              "Burglary                      88092   90619   86826  ...   70489   68285   754293\n",
              "Criminal Damage               91872   85565   77897  ...   62976   64071   630938\n",
              "Drugs                         68804   60549   58674  ...   39785   38914   470765\n",
              "\n",
              "[5 rows x 10 columns]"
            ]
          },
          "metadata": {},
          "execution_count": 29
        }
      ]
    },
    {
      "cell_type": "markdown",
      "metadata": {
        "id": "HLicpqvrc95n"
      },
      "source": [
        "reset index dari data top5crime"
      ]
    },
    {
      "cell_type": "code",
      "metadata": {
        "id": "S9AE_eISC-4L",
        "colab": {
          "base_uri": "https://localhost:8080/",
          "height": 204
        },
        "outputId": "386784f8-2881-4f92-cf48-9cdcf9c05cb9"
      },
      "source": [
        "top5crime.reset_index(inplace=True)\n",
        "top5crime"
      ],
      "execution_count": null,
      "outputs": [
        {
          "output_type": "execute_result",
          "data": {
            "text/html": [
              "<div>\n",
              "<style scoped>\n",
              "    .dataframe tbody tr th:only-of-type {\n",
              "        vertical-align: middle;\n",
              "    }\n",
              "\n",
              "    .dataframe tbody tr th {\n",
              "        vertical-align: top;\n",
              "    }\n",
              "\n",
              "    .dataframe thead th {\n",
              "        text-align: right;\n",
              "    }\n",
              "</style>\n",
              "<table border=\"1\" class=\"dataframe\">\n",
              "  <thead>\n",
              "    <tr style=\"text-align: right;\">\n",
              "      <th>year</th>\n",
              "      <th>major_category</th>\n",
              "      <th>2008</th>\n",
              "      <th>2009</th>\n",
              "      <th>2010</th>\n",
              "      <th>2011</th>\n",
              "      <th>2012</th>\n",
              "      <th>2013</th>\n",
              "      <th>2014</th>\n",
              "      <th>2015</th>\n",
              "      <th>2016</th>\n",
              "      <th>Total</th>\n",
              "    </tr>\n",
              "  </thead>\n",
              "  <tbody>\n",
              "    <tr>\n",
              "      <th>0</th>\n",
              "      <td>Theft and Handling</td>\n",
              "      <td>283692</td>\n",
              "      <td>279492</td>\n",
              "      <td>290924</td>\n",
              "      <td>309292</td>\n",
              "      <td>334054</td>\n",
              "      <td>306372</td>\n",
              "      <td>279880</td>\n",
              "      <td>284022</td>\n",
              "      <td>294133</td>\n",
              "      <td>2661861</td>\n",
              "    </tr>\n",
              "    <tr>\n",
              "      <th>1</th>\n",
              "      <td>Violence Against the Person</td>\n",
              "      <td>159844</td>\n",
              "      <td>160777</td>\n",
              "      <td>157894</td>\n",
              "      <td>146901</td>\n",
              "      <td>150014</td>\n",
              "      <td>146181</td>\n",
              "      <td>185349</td>\n",
              "      <td>218740</td>\n",
              "      <td>232381</td>\n",
              "      <td>1558081</td>\n",
              "    </tr>\n",
              "    <tr>\n",
              "      <th>2</th>\n",
              "      <td>Burglary</td>\n",
              "      <td>88092</td>\n",
              "      <td>90619</td>\n",
              "      <td>86826</td>\n",
              "      <td>93315</td>\n",
              "      <td>93392</td>\n",
              "      <td>87222</td>\n",
              "      <td>76053</td>\n",
              "      <td>70489</td>\n",
              "      <td>68285</td>\n",
              "      <td>754293</td>\n",
              "    </tr>\n",
              "    <tr>\n",
              "      <th>3</th>\n",
              "      <td>Criminal Damage</td>\n",
              "      <td>91872</td>\n",
              "      <td>85565</td>\n",
              "      <td>77897</td>\n",
              "      <td>70914</td>\n",
              "      <td>62158</td>\n",
              "      <td>56206</td>\n",
              "      <td>59279</td>\n",
              "      <td>62976</td>\n",
              "      <td>64071</td>\n",
              "      <td>630938</td>\n",
              "    </tr>\n",
              "    <tr>\n",
              "      <th>4</th>\n",
              "      <td>Drugs</td>\n",
              "      <td>68804</td>\n",
              "      <td>60549</td>\n",
              "      <td>58674</td>\n",
              "      <td>57550</td>\n",
              "      <td>51776</td>\n",
              "      <td>50278</td>\n",
              "      <td>44435</td>\n",
              "      <td>39785</td>\n",
              "      <td>38914</td>\n",
              "      <td>470765</td>\n",
              "    </tr>\n",
              "  </tbody>\n",
              "</table>\n",
              "</div>"
            ],
            "text/plain": [
              "year               major_category    2008    2009  ...    2015    2016    Total\n",
              "0              Theft and Handling  283692  279492  ...  284022  294133  2661861\n",
              "1     Violence Against the Person  159844  160777  ...  218740  232381  1558081\n",
              "2                        Burglary   88092   90619  ...   70489   68285   754293\n",
              "3                 Criminal Damage   91872   85565  ...   62976   64071   630938\n",
              "4                           Drugs   68804   60549  ...   39785   38914   470765\n",
              "\n",
              "[5 rows x 11 columns]"
            ]
          },
          "metadata": {},
          "execution_count": 30
        }
      ]
    },
    {
      "cell_type": "markdown",
      "metadata": {
        "id": "MUfCEepddCpM"
      },
      "source": [
        "memisahkan X dan Y"
      ]
    },
    {
      "cell_type": "code",
      "metadata": {
        "id": "nyO4n8uFOt_2"
      },
      "source": [
        "x = top5crime.major_category.values\n",
        "y = top5crime.Total.values"
      ],
      "execution_count": null,
      "outputs": []
    },
    {
      "cell_type": "markdown",
      "metadata": {
        "id": "mwOMeEdLdKeT"
      },
      "source": [
        "Visualisasi data top5crime menggunakan bar plot"
      ]
    },
    {
      "cell_type": "code",
      "metadata": {
        "colab": {
          "base_uri": "https://localhost:8080/",
          "height": 404
        },
        "id": "d5kBAhYrAbGU",
        "outputId": "ddc152ee-d3b0-41f1-8a39-949a7bb36974"
      },
      "source": [
        "fig = plt.figure(figsize = (10, 5))\n",
        "plt.bar(x, y)\n",
        "plt.title(\"Top 5 London Crimes\")\n",
        "plt.xticks(rotation=30)\n",
        "for idx in range(len(x)):\n",
        "  plt.text(idx, y[idx], y[idx])\n",
        "plt.show()"
      ],
      "execution_count": null,
      "outputs": [
        {
          "output_type": "display_data",
          "data": {
            "image/png": "[encoded data removed]",
            "text/plain": [
              "<Figure size 720x360 with 1 Axes>"
            ]
          },
          "metadata": {
            "needs_background": "light"
          }
        }
      ]
    },
    {
      "cell_type": "markdown",
      "metadata": {
        "id": "Hm4xgqwwgUzV"
      },
      "source": [
        "Berdasarkan bar chart tersebut major category paling tinggi kasusnya adalah Theft and Handling dengan total kasus (2661861).\n"
      ]
    },
    {
      "cell_type": "markdown",
      "metadata": {
        "id": "Qcp10UCCvmnv"
      },
      "source": [
        "#Word Clouds"
      ]
    },
    {
      "cell_type": "code",
      "metadata": {
        "colab": {
          "base_uri": "https://localhost:8080/",
          "height": 419
        },
        "id": "ecMBwfjCvvOw",
        "outputId": "0ea9bd58-040b-482c-cd2a-f3f3d42a20f0"
      },
      "source": [
        "df_crime"
      ],
      "execution_count": null,
      "outputs": [
        {
          "output_type": "execute_result",
          "data": {
            "text/html": [
              "<div>\n",
              "<style scoped>\n",
              "    .dataframe tbody tr th:only-of-type {\n",
              "        vertical-align: middle;\n",
              "    }\n",
              "\n",
              "    .dataframe tbody tr th {\n",
              "        vertical-align: top;\n",
              "    }\n",
              "\n",
              "    .dataframe thead th {\n",
              "        text-align: right;\n",
              "    }\n",
              "</style>\n",
              "<table border=\"1\" class=\"dataframe\">\n",
              "  <thead>\n",
              "    <tr style=\"text-align: right;\">\n",
              "      <th></th>\n",
              "      <th>borough</th>\n",
              "      <th>major_category</th>\n",
              "      <th>minor_category</th>\n",
              "      <th>value</th>\n",
              "      <th>year</th>\n",
              "      <th>month</th>\n",
              "    </tr>\n",
              "  </thead>\n",
              "  <tbody>\n",
              "    <tr>\n",
              "      <th>0</th>\n",
              "      <td>Croydon</td>\n",
              "      <td>Burglary</td>\n",
              "      <td>Burglary in Other Buildings</td>\n",
              "      <td>0</td>\n",
              "      <td>2016</td>\n",
              "      <td>11</td>\n",
              "    </tr>\n",
              "    <tr>\n",
              "      <th>1</th>\n",
              "      <td>Greenwich</td>\n",
              "      <td>Violence Against the Person</td>\n",
              "      <td>Other violence</td>\n",
              "      <td>0</td>\n",
              "      <td>2016</td>\n",
              "      <td>11</td>\n",
              "    </tr>\n",
              "    <tr>\n",
              "      <th>2</th>\n",
              "      <td>Bromley</td>\n",
              "      <td>Violence Against the Person</td>\n",
              "      <td>Other violence</td>\n",
              "      <td>0</td>\n",
              "      <td>2015</td>\n",
              "      <td>5</td>\n",
              "    </tr>\n",
              "    <tr>\n",
              "      <th>3</th>\n",
              "      <td>Redbridge</td>\n",
              "      <td>Burglary</td>\n",
              "      <td>Burglary in Other Buildings</td>\n",
              "      <td>0</td>\n",
              "      <td>2016</td>\n",
              "      <td>3</td>\n",
              "    </tr>\n",
              "    <tr>\n",
              "      <th>4</th>\n",
              "      <td>Wandsworth</td>\n",
              "      <td>Robbery</td>\n",
              "      <td>Personal Property</td>\n",
              "      <td>0</td>\n",
              "      <td>2008</td>\n",
              "      <td>6</td>\n",
              "    </tr>\n",
              "    <tr>\n",
              "      <th>...</th>\n",
              "      <td>...</td>\n",
              "      <td>...</td>\n",
              "      <td>...</td>\n",
              "      <td>...</td>\n",
              "      <td>...</td>\n",
              "      <td>...</td>\n",
              "    </tr>\n",
              "    <tr>\n",
              "      <th>13490599</th>\n",
              "      <td>Brent</td>\n",
              "      <td>Criminal Damage</td>\n",
              "      <td>Criminal Damage To Dwelling</td>\n",
              "      <td>0</td>\n",
              "      <td>2015</td>\n",
              "      <td>2</td>\n",
              "    </tr>\n",
              "    <tr>\n",
              "      <th>13490600</th>\n",
              "      <td>Hillingdon</td>\n",
              "      <td>Robbery</td>\n",
              "      <td>Personal Property</td>\n",
              "      <td>1</td>\n",
              "      <td>2015</td>\n",
              "      <td>6</td>\n",
              "    </tr>\n",
              "    <tr>\n",
              "      <th>13490601</th>\n",
              "      <td>Sutton</td>\n",
              "      <td>Burglary</td>\n",
              "      <td>Burglary in a Dwelling</td>\n",
              "      <td>0</td>\n",
              "      <td>2011</td>\n",
              "      <td>2</td>\n",
              "    </tr>\n",
              "    <tr>\n",
              "      <th>13490602</th>\n",
              "      <td>Croydon</td>\n",
              "      <td>Robbery</td>\n",
              "      <td>Business Property</td>\n",
              "      <td>0</td>\n",
              "      <td>2011</td>\n",
              "      <td>5</td>\n",
              "    </tr>\n",
              "    <tr>\n",
              "      <th>13490603</th>\n",
              "      <td>Merton</td>\n",
              "      <td>Violence Against the Person</td>\n",
              "      <td>Wounding/GBH</td>\n",
              "      <td>0</td>\n",
              "      <td>2015</td>\n",
              "      <td>6</td>\n",
              "    </tr>\n",
              "  </tbody>\n",
              "</table>\n",
              "<p>13490604 rows × 6 columns</p>\n",
              "</div>"
            ],
            "text/plain": [
              "             borough               major_category  ...  year  month\n",
              "0            Croydon                     Burglary  ...  2016     11\n",
              "1          Greenwich  Violence Against the Person  ...  2016     11\n",
              "2            Bromley  Violence Against the Person  ...  2015      5\n",
              "3          Redbridge                     Burglary  ...  2016      3\n",
              "4         Wandsworth                      Robbery  ...  2008      6\n",
              "...              ...                          ...  ...   ...    ...\n",
              "13490599       Brent              Criminal Damage  ...  2015      2\n",
              "13490600  Hillingdon                      Robbery  ...  2015      6\n",
              "13490601      Sutton                     Burglary  ...  2011      2\n",
              "13490602     Croydon                      Robbery  ...  2011      5\n",
              "13490603      Merton  Violence Against the Person  ...  2015      6\n",
              "\n",
              "[13490604 rows x 6 columns]"
            ]
          },
          "metadata": {},
          "execution_count": 33
        }
      ]
    },
    {
      "cell_type": "markdown",
      "metadata": {
        "id": "vi0Qf0m7dWzN"
      },
      "source": [
        "menghitung jumlah value dari setiap minor_category"
      ]
    },
    {
      "cell_type": "code",
      "metadata": {
        "colab": {
          "base_uri": "https://localhost:8080/"
        },
        "id": "_6bxniPY5DqU",
        "outputId": "70c007f5-752b-4845-e3d0-070494373ff2"
      },
      "source": [
        "df_crime.minor_category.value_counts()"
      ],
      "execution_count": null,
      "outputs": [
        {
          "output_type": "execute_result",
          "data": {
            "text/plain": [
              "Common Assault                            522180\n",
              "Other Theft                               522180\n",
              "Theft From Motor Vehicle                  522180\n",
              "Burglary in Other Buildings               522072\n",
              "Theft/Taking Of Motor Vehicle             522072\n",
              "Harassment                                522072\n",
              "Criminal Damage To Motor Vehicle          521964\n",
              "Assault with Injury                       521856\n",
              "Other Criminal Damage                     521856\n",
              "Possession Of Drugs                       521748\n",
              "Burglary in a Dwelling                    521532\n",
              "Criminal Damage To Dwelling               521424\n",
              "Personal Property                         520668\n",
              "Motor Vehicle Interference & Tampering    520452\n",
              "Other Notifiable                          519696\n",
              "Other Theft Person                        519480\n",
              "Wounding/GBH                              519372\n",
              "Theft/Taking of Pedal Cycle               516996\n",
              "Other violence                            512028\n",
              "Criminal Damage To Other Building         503928\n",
              "Drug Trafficking                          490536\n",
              "Offensive Weapon                          481896\n",
              "Handling Stolen Goods                     426168\n",
              "Business Property                         418716\n",
              "Theft From Shops                          416772\n",
              "Going Equipped                            256608\n",
              "Other Drugs                               167184\n",
              "Counted per Victim                        137916\n",
              "Other Fraud & Forgery                      98604\n",
              "Murder                                     92340\n",
              "Other Sexual                               81108\n",
              "Rape                                       27000\n",
              "Name: minor_category, dtype: int64"
            ]
          },
          "metadata": {},
          "execution_count": 34
        }
      ]
    },
    {
      "cell_type": "markdown",
      "metadata": {
        "id": "08RUSFI-dgCM"
      },
      "source": [
        "mengimport library WordCloud"
      ]
    },
    {
      "cell_type": "code",
      "metadata": {
        "id": "kBTd5xHZ47iE"
      },
      "source": [
        "from wordcloud import WordCloud"
      ],
      "execution_count": null,
      "outputs": []
    },
    {
      "cell_type": "markdown",
      "metadata": {
        "id": "IF5yKihKdmS8"
      },
      "source": [
        "Menghilangkan colom yang tidak dibutuhkan"
      ]
    },
    {
      "cell_type": "code",
      "metadata": {
        "colab": {
          "base_uri": "https://localhost:8080/",
          "height": 419
        },
        "id": "zcf0K5GZ75r6",
        "outputId": "5f38f0e3-d750-43ee-8aa8-3b0e590d3e27"
      },
      "source": [
        "df_minorCategory = df_crime.drop(['value','year','month','borough','major_category'],axis=1)\n",
        "df_minorCategory"
      ],
      "execution_count": null,
      "outputs": [
        {
          "output_type": "execute_result",
          "data": {
            "text/html": [
              "<div>\n",
              "<style scoped>\n",
              "    .dataframe tbody tr th:only-of-type {\n",
              "        vertical-align: middle;\n",
              "    }\n",
              "\n",
              "    .dataframe tbody tr th {\n",
              "        vertical-align: top;\n",
              "    }\n",
              "\n",
              "    .dataframe thead th {\n",
              "        text-align: right;\n",
              "    }\n",
              "</style>\n",
              "<table border=\"1\" class=\"dataframe\">\n",
              "  <thead>\n",
              "    <tr style=\"text-align: right;\">\n",
              "      <th></th>\n",
              "      <th>minor_category</th>\n",
              "    </tr>\n",
              "  </thead>\n",
              "  <tbody>\n",
              "    <tr>\n",
              "      <th>0</th>\n",
              "      <td>Burglary in Other Buildings</td>\n",
              "    </tr>\n",
              "    <tr>\n",
              "      <th>1</th>\n",
              "      <td>Other violence</td>\n",
              "    </tr>\n",
              "    <tr>\n",
              "      <th>2</th>\n",
              "      <td>Other violence</td>\n",
              "    </tr>\n",
              "    <tr>\n",
              "      <th>3</th>\n",
              "      <td>Burglary in Other Buildings</td>\n",
              "    </tr>\n",
              "    <tr>\n",
              "      <th>4</th>\n",
              "      <td>Personal Property</td>\n",
              "    </tr>\n",
              "    <tr>\n",
              "      <th>...</th>\n",
              "      <td>...</td>\n",
              "    </tr>\n",
              "    <tr>\n",
              "      <th>13490599</th>\n",
              "      <td>Criminal Damage To Dwelling</td>\n",
              "    </tr>\n",
              "    <tr>\n",
              "      <th>13490600</th>\n",
              "      <td>Personal Property</td>\n",
              "    </tr>\n",
              "    <tr>\n",
              "      <th>13490601</th>\n",
              "      <td>Burglary in a Dwelling</td>\n",
              "    </tr>\n",
              "    <tr>\n",
              "      <th>13490602</th>\n",
              "      <td>Business Property</td>\n",
              "    </tr>\n",
              "    <tr>\n",
              "      <th>13490603</th>\n",
              "      <td>Wounding/GBH</td>\n",
              "    </tr>\n",
              "  </tbody>\n",
              "</table>\n",
              "<p>13490604 rows × 1 columns</p>\n",
              "</div>"
            ],
            "text/plain": [
              "                       minor_category\n",
              "0         Burglary in Other Buildings\n",
              "1                      Other violence\n",
              "2                      Other violence\n",
              "3         Burglary in Other Buildings\n",
              "4                   Personal Property\n",
              "...                               ...\n",
              "13490599  Criminal Damage To Dwelling\n",
              "13490600            Personal Property\n",
              "13490601       Burglary in a Dwelling\n",
              "13490602            Business Property\n",
              "13490603                 Wounding/GBH\n",
              "\n",
              "[13490604 rows x 1 columns]"
            ]
          },
          "metadata": {},
          "execution_count": 36
        }
      ]
    },
    {
      "cell_type": "markdown",
      "metadata": {
        "id": "HeE6RCc0e67P"
      },
      "source": [
        "membuat wordcloud dengan dengan memisahkan tiap kata dengan 'spasi' pada colom minor_category"
      ]
    },
    {
      "cell_type": "code",
      "metadata": {
        "id": "V00GxENS3noR"
      },
      "source": [
        "minorCategory = WordCloud().generate(' '.join(df_crime['minor_category']))"
      ],
      "execution_count": null,
      "outputs": []
    },
    {
      "cell_type": "markdown",
      "metadata": {
        "id": "y-Rw3ruRfu0f"
      },
      "source": [
        "Menampilkan wordcloud "
      ]
    },
    {
      "cell_type": "code",
      "metadata": {
        "colab": {
          "base_uri": "https://localhost:8080/",
          "height": 198
        },
        "id": "CsFRIyNW4zux",
        "outputId": "5cd315e3-7d4d-41ad-fdde-7399f75d86d6"
      },
      "source": [
        "plt.imshow(minorCategory, interpolation=\"bilinear\")\n",
        "plt.axis('off')\n",
        "plt.show()"
      ],
      "execution_count": null,
      "outputs": [
        {
          "output_type": "display_data",
          "data": {
            "image/png": "[encoded data removed]",
            "text/plain": [
              "<Figure size 432x288 with 1 Axes>"
            ]
          },
          "metadata": {
            "needs_background": "light"
          }
        }
      ]
    },
    {
      "cell_type": "markdown",
      "metadata": {
        "id": "i4NyKQZdgDpF"
      },
      "source": [
        "Berdasarkan data wordloud kata yang paling banyak muncul adalah kata \n",
        "* Criminal\n",
        "* Damage\n",
        "* Motor\n",
        "* Vehicle"
      ]
    },
    {
      "cell_type": "markdown",
      "metadata": {
        "id": "khTE2gpOf0Hs"
      },
      "source": [
        "# KESIMPULAN"
      ]
    },
    {
      "cell_type": "markdown",
      "metadata": {
        "id": "ZCMxX8RIf2KT"
      },
      "source": [
        "kasus kejahatan pada london yang sering terjadi merupakan Thieft and Handling dimana tiap tahun dari tahun 2008 - 2016 selalu menjadi kasus tertinggi, dan kasus Violence Against the Person mengalami lonjakan kasus pada tahun 2013 dan terus naik hingga 2016 sementara kasus dari kategori lainnya mengalami penurunan. Untuk kota yang paling sering mengalami kasus kejahatan merupakan Westminster, Lambeth, dan Southwark."
      ]
    }
  ]
}