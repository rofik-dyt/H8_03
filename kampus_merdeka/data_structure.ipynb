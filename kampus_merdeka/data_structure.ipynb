{
  "nbformat": 4,
  "nbformat_minor": 0,
  "metadata": {
    "colab": {
      "name": "Untitled2.ipynb",
      "provenance": []
    },
    "kernelspec": {
      "name": "python3",
      "display_name": "Python 3"
    },
    "language_info": {
      "name": "python"
    }
  },
  "cells": [
    {
      "cell_type": "code",
      "metadata": {
        "colab": {
          "base_uri": "https://localhost:8080/"
        },
        "id": "X-xqVMNzHjmH",
        "outputId": "2135bf20-28dc-4fa7-e893-1854a1fdab8d"
      },
      "source": [
        "def functiontest ():\n",
        "  print(\"function test\")\n",
        "print(\"out of scope\")\n",
        "functiontest()"
      ],
      "execution_count": 1,
      "outputs": [
        {
          "output_type": "stream",
          "text": [
            "out of scope\n",
            "function test\n"
          ],
          "name": "stdout"
        }
      ]
    },
    {
      "cell_type": "code",
      "metadata": {
        "id": "r9WZtawkMdsZ"
      },
      "source": [
        "a = [1,\"dua\",3,\"empat\"]\n",
        "a = [1,[2], [3,4]]"
      ],
      "execution_count": 13,
      "outputs": []
    },
    {
      "cell_type": "code",
      "metadata": {
        "colab": {
          "base_uri": "https://localhost:8080/"
        },
        "id": "ChUjOCEqVOfw",
        "outputId": "cff8fd18-8a40-4fc1-e3c4-e0c198e73925"
      },
      "source": [
        "myUpsideList = [10,9,8]\n",
        "myUpsideList.sort()\n",
        "myUpsideList.count(9)"
      ],
      "execution_count": 21,
      "outputs": [
        {
          "output_type": "execute_result",
          "data": {
            "text/plain": [
              "1"
            ]
          },
          "metadata": {},
          "execution_count": 21
        }
      ]
    },
    {
      "cell_type": "code",
      "metadata": {
        "colab": {
          "base_uri": "https://localhost:8080/"
        },
        "id": "0NiPJs58W12M",
        "outputId": "1b5945ae-6a59-44d6-9316-99d5f0776ef0"
      },
      "source": [
        "len(myUpsideList)"
      ],
      "execution_count": 22,
      "outputs": [
        {
          "output_type": "execute_result",
          "data": {
            "text/plain": [
              "3"
            ]
          },
          "metadata": {},
          "execution_count": 22
        }
      ]
    },
    {
      "cell_type": "code",
      "metadata": {
        "colab": {
          "base_uri": "https://localhost:8080/"
        },
        "id": "ksWd0JhNXxGT",
        "outputId": "a75225a8-7443-4738-d3da-40f94d989b82"
      },
      "source": [
        "print(min(myUpsideList))\n",
        "print(max(myUpsideList))"
      ],
      "execution_count": 23,
      "outputs": [
        {
          "output_type": "stream",
          "text": [
            "8\n",
            "10\n"
          ],
          "name": "stdout"
        }
      ]
    },
    {
      "cell_type": "code",
      "metadata": {
        "colab": {
          "base_uri": "https://localhost:8080/"
        },
        "id": "IPDHcWFfX3BA",
        "outputId": "aa39d075-f153-4794-f9a7-bd1b7273c32b"
      },
      "source": [
        "myUpsideList = [10,9,8]\n",
        "myUpsideList.sort()\n",
        "myUpsideList.append(6)\n",
        "print(myUpsideList)"
      ],
      "execution_count": 26,
      "outputs": [
        {
          "output_type": "stream",
          "text": [
            "[8, 9, 10, 6]\n"
          ],
          "name": "stdout"
        }
      ]
    },
    {
      "cell_type": "code",
      "metadata": {
        "id": "mYDoKtZ7YCsw"
      },
      "source": [
        "myUpsideList[3]=7"
      ],
      "execution_count": 27,
      "outputs": []
    },
    {
      "cell_type": "code",
      "metadata": {
        "colab": {
          "base_uri": "https://localhost:8080/"
        },
        "id": "PEItOsD4Yb45",
        "outputId": "8ce17db8-d10f-4f46-f974-f47fa59d86f4"
      },
      "source": [
        "myUpsideList"
      ],
      "execution_count": 28,
      "outputs": [
        {
          "output_type": "execute_result",
          "data": {
            "text/plain": [
              "[8, 9, 10, 7]"
            ]
          },
          "metadata": {},
          "execution_count": 28
        }
      ]
    },
    {
      "cell_type": "code",
      "metadata": {
        "id": "jkgbMS8oYeJ9"
      },
      "source": [
        "myList = [10,9,8,6,7]"
      ],
      "execution_count": 69,
      "outputs": []
    },
    {
      "cell_type": "code",
      "metadata": {
        "colab": {
          "base_uri": "https://localhost:8080/"
        },
        "id": "mA5ASyy3Yiio",
        "outputId": "32dc48c8-c3c7-4c68-b953-940b9e34d0a0"
      },
      "source": [
        "existVal = myList[3]\n",
        "myList[3] = myList[4]\n",
        "myList[4] = existVal\n",
        "myList"
      ],
      "execution_count": 70,
      "outputs": [
        {
          "output_type": "execute_result",
          "data": {
            "text/plain": [
              "[10, 9, 8, 7, 6]"
            ]
          },
          "metadata": {},
          "execution_count": 70
        }
      ]
    },
    {
      "cell_type": "code",
      "metadata": {
        "colab": {
          "base_uri": "https://localhost:8080/"
        },
        "id": "h0EWWGceYzf4",
        "outputId": "5a9db30a-564b-4f19-9abb-82cc092eac7b"
      },
      "source": [
        "myList[1:4]=[2,3,4,5]\n",
        "myList"
      ],
      "execution_count": 71,
      "outputs": [
        {
          "output_type": "execute_result",
          "data": {
            "text/plain": [
              "[10, 2, 3, 4, 5, 6]"
            ]
          },
          "metadata": {},
          "execution_count": 71
        }
      ]
    },
    {
      "cell_type": "code",
      "metadata": {
        "id": "WS9JpD8tiIVz"
      },
      "source": [
        ""
      ],
      "execution_count": null,
      "outputs": []
    }
  ]
}