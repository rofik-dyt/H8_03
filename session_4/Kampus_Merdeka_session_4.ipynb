{
 "cells": [
  {
   "cell_type": "code",
   "execution_count": 2,
   "metadata": {
    "id": "EcNl_frMeEdC"
   },
   "outputs": [],
   "source": [
    "import numpy as np"
   ]
  },
  {
   "cell_type": "code",
   "execution_count": 2,
   "metadata": {
    "id": "olAilzhLerdU"
   },
   "outputs": [],
   "source": [
    "myArray = np.array([1,2,3,4,5])\n",
    "myList = [1,2,3,4,5]"
   ]
  },
  {
   "cell_type": "code",
   "execution_count": 11,
   "metadata": {
    "colab": {
     "base_uri": "https://localhost:8080/"
    },
    "id": "b_ICtnV1e1ED",
    "outputId": "245d6e65-5b33-4a5e-cca7-0ab7135b0a41"
   },
   "outputs": [
    {
     "data": {
      "text/plain": [
       "array([1, 2, 3, 4, 5])"
      ]
     },
     "execution_count": 11,
     "metadata": {},
     "output_type": "execute_result"
    }
   ],
   "source": [
    "myArray"
   ]
  },
  {
   "cell_type": "code",
   "execution_count": 12,
   "metadata": {
    "colab": {
     "base_uri": "https://localhost:8080/"
    },
    "id": "DSRbb75He7Pz",
    "outputId": "d8a47843-c981-4a87-c4eb-575e08537ba1"
   },
   "outputs": [
    {
     "name": "stdout",
     "output_type": "stream",
     "text": [
      "[1, 2, 3, 4, 5, 1, 2, 3, 4, 5, 1, 2, 3, 4, 5, 1, 2, 3, 4, 5, 1, 2, 3, 4, 5] [ 5 10 15 20 25]\n"
     ]
    }
   ],
   "source": [
    "multiplyList = myList * 5\n",
    "multiplyArray = myArray * 5\n",
    "\n",
    "print(multiplyList,multiplyArray)"
   ]
  },
  {
   "cell_type": "code",
   "execution_count": 7,
   "metadata": {
    "id": "vdTiuro1fW0c"
   },
   "outputs": [],
   "source": [
    "myNewArray = np.array(myList)"
   ]
  },
  {
   "cell_type": "code",
   "execution_count": 3,
   "metadata": {
    "colab": {
     "base_uri": "https://localhost:8080/"
    },
    "id": "PHm8oqeSf89k",
    "outputId": "43163f9e-e5fd-4936-8bfd-5871c55560c5"
   },
   "outputs": [
    {
     "name": "stdout",
     "output_type": "stream",
     "text": [
      "add [3 4 5 6 7]\n",
      "red [-1  0  1  2  3]\n",
      "square [ 1  4  9 16 25]\n",
      "div [0.5 1.  1.5 2.  2.5]\n"
     ]
    }
   ],
   "source": [
    "divArray = myArray / 2\n",
    "reduceArray = myArray - 2\n",
    "addArray = myArray + 2\n",
    "squareArray = myArray ** 2\n",
    "\n",
    "print('add', addArray)\n",
    "print('red', reduceArray)\n",
    "print('square', squareArray)\n",
    "print('div', divArray)"
   ]
  },
  {
   "cell_type": "code",
   "execution_count": 4,
   "metadata": {
    "colab": {
     "base_uri": "https://localhost:8080/"
    },
    "id": "Iw--8Vzbh8pk",
    "outputId": "ac8e7b7a-7e7c-49a8-d410-36af6c4fb2d0"
   },
   "outputs": [
    {
     "name": "stdout",
     "output_type": "stream",
     "text": [
      "[4 5]\n"
     ]
    }
   ],
   "source": [
    "isMyarrayMoreThan3 = myArray > 3\n",
    "\n",
    "valueMoreThan3c = myArray[myArray > 3]\n",
    "print(valueMoreThan3c)"
   ]
  },
  {
   "cell_type": "code",
   "execution_count": 5,
   "metadata": {
    "colab": {
     "base_uri": "https://localhost:8080/"
    },
    "id": "mufbIVTQiVx8",
    "outputId": "3f7ed1ff-284d-48fb-dc3d-ec90c4de39a6"
   },
   "outputs": [
    {
     "data": {
      "text/plain": [
       "array([False, False, False,  True,  True])"
      ]
     },
     "execution_count": 5,
     "metadata": {},
     "output_type": "execute_result"
    }
   ],
   "source": [
    "isMyarrayMoreThan3"
   ]
  },
  {
   "cell_type": "code",
   "execution_count": 3,
   "metadata": {
    "colab": {
     "base_uri": "https://localhost:8080/"
    },
    "id": "SRe_M7ldiZd7",
    "outputId": "60980bcf-fbc4-4e7b-e6ab-e914cda4bf92"
   },
   "outputs": [
    {
     "name": "stdout",
     "output_type": "stream",
     "text": [
      "(3, 4)\n"
     ]
    }
   ],
   "source": [
    "arrayMulti = np.array([[1,2,3,4],\n",
    "                       [5,6,7,8],\n",
    "                       [9,10,11,12]])\n",
    "print(arrayMulti.shape)"
   ]
  },
  {
   "cell_type": "code",
   "execution_count": 4,
   "metadata": {
    "colab": {
     "base_uri": "https://localhost:8080/"
    },
    "id": "gaV0XAMPjSBm",
    "outputId": "5d7aa59e-edc0-4419-a338-aef59b85b9e4"
   },
   "outputs": [
    {
     "name": "stdout",
     "output_type": "stream",
     "text": [
      "<class 'numpy.ndarray'>\n"
     ]
    }
   ],
   "source": [
    "print(type(arrayMulti))"
   ]
  },
  {
   "cell_type": "code",
   "execution_count": 5,
   "metadata": {
    "colab": {
     "base_uri": "https://localhost:8080/"
    },
    "id": "4v6RvpjfjpM-",
    "outputId": "4212be8c-9419-4624-a83a-8bad07705beb"
   },
   "outputs": [
    {
     "name": "stdout",
     "output_type": "stream",
     "text": [
      "5\n",
      "5\n"
     ]
    }
   ],
   "source": [
    "print(arrayMulti[1,0])\n",
    "print(arrayMulti[1][0])"
   ]
  },
  {
   "cell_type": "code",
   "execution_count": 8,
   "metadata": {
    "colab": {
     "base_uri": "https://localhost:8080/"
    },
    "id": "ISVZNrgcj8qE",
    "outputId": "a2552209-3bde-480b-bffe-f7bd99501cc1"
   },
   "outputs": [
    {
     "name": "stdout",
     "output_type": "stream",
     "text": [
      "[[ 2  3]\n",
      " [ 6  7]\n",
      " [10 11]]\n"
     ]
    }
   ],
   "source": [
    "print(arrayMulti[0:,1:3])"
   ]
  },
  {
   "cell_type": "code",
   "execution_count": 9,
   "metadata": {
    "id": "8PhRYFe5lFAd"
   },
   "outputs": [
    {
     "data": {
      "text/plain": [
       "array([[70., 75., 80., 30.],\n",
       "       [75., 80., 90., 68.],\n",
       "       [65., 77., 60., 90.],\n",
       "       [40., 60., 55., 75.]])"
      ]
     },
     "execution_count": 9,
     "metadata": {},
     "output_type": "execute_result"
    }
   ],
   "source": [
    "mystudentData = np.genfromtxt(\"./data.csv\",skip_header=1,delimiter=',',filling_values=40)\n",
    "mystudentData"
   ]
  },
  {
   "cell_type": "code",
   "execution_count": 10,
   "metadata": {},
   "outputs": [
    {
     "name": "stdout",
     "output_type": "stream",
     "text": [
      "[75. 80. 90. 90.]\n"
     ]
    }
   ],
   "source": [
    "maxInclass = np.amax(mystudentData, axis = 0)\n",
    "print(maxInclass)"
   ]
  },
  {
   "cell_type": "code",
   "execution_count": 11,
   "metadata": {},
   "outputs": [
    {
     "name": "stdout",
     "output_type": "stream",
     "text": [
      "[63.75 78.25 73.   57.5 ]\n"
     ]
    }
   ],
   "source": [
    "meanStudentTiapMapel = np.mean(mystudentData, axis=1)\n",
    "print(meanStudentTiapMapel)"
   ]
  },
  {
   "cell_type": "code",
   "execution_count": 12,
   "metadata": {},
   "outputs": [
    {
     "data": {
      "text/plain": [
       "array([255., 313., 292., 230.])"
      ]
     },
     "execution_count": 12,
     "metadata": {},
     "output_type": "execute_result"
    }
   ],
   "source": [
    "sumStudent = np.sum(mystudentData, axis=1)\n",
    "sumStudent"
   ]
  },
  {
   "cell_type": "code",
   "execution_count": 13,
   "metadata": {},
   "outputs": [
    {
     "data": {
      "text/plain": [
       "array([30., 68., 60., 40.])"
      ]
     },
     "execution_count": 13,
     "metadata": {},
     "output_type": "execute_result"
    }
   ],
   "source": [
    "minStudent = np.min(mystudentData, axis=1)\n",
    "minStudent"
   ]
  },
  {
   "cell_type": "code",
   "execution_count": 17,
   "metadata": {},
   "outputs": [
    {
     "data": {
      "text/plain": [
       "array([72.5, 77.5, 71. , 57.5])"
      ]
     },
     "execution_count": 17,
     "metadata": {},
     "output_type": "execute_result"
    }
   ],
   "source": [
    "medianStudent = np.median(mystudentData, axis=1)\n",
    "medianStudent"
   ]
  },
  {
   "cell_type": "code",
   "execution_count": 22,
   "metadata": {},
   "outputs": [
    {
     "name": "stdout",
     "output_type": "stream",
     "text": [
      "max  [75. 80. 90. 90.]\n",
      "mean  [63.75 78.25 73.   57.5 ]\n",
      "sum  [255. 313. 292. 230.]\n",
      "median  [72.5 77.5 71.  57.5]\n",
      "sort  [[30. 70. 75. 80.]\n",
      " [68. 75. 80. 90.]\n",
      " [60. 65. 77. 90.]\n",
      " [40. 55. 60. 75.]]\n"
     ]
    }
   ],
   "source": [
    "maxInclass = np.amax(mystudentData, axis = 0)\n",
    "meanStudentTiapMapel = np.mean(mystudentData, axis=1)\n",
    "sumStudent = np.sum(mystudentData, axis=1)\n",
    "medianStudent = np.median(mystudentData, axis=1)\n",
    "sortStudent = np.sort(mystudentData, axis=1)\n",
    "print('max ',maxInclass)\n",
    "print('mean ',meanStudentTiapMapel)\n",
    "print('sum ',sumStudent)\n",
    "print('median ',medianStudent)\n",
    "print('sort ',sortStudent)"
   ]
  },
  {
   "cell_type": "code",
   "execution_count": 18,
   "metadata": {},
   "outputs": [
    {
     "name": "stdout",
     "output_type": "stream",
     "text": [
      "Search results for 'sort'\n",
      "-------------------------\n",
      "numpy.sort\n",
      "    Return a sorted copy of an array.\n",
      "numpy.msort\n",
      "    Return a copy of an array sorted along the first axis.\n",
      "numpy.argsort\n",
      "    Returns the indices that would sort an array.\n",
      "numpy.lexsort\n",
      "    Perform an indirect stable sort using a sequence of keys.\n",
      "numpy.searchsorted\n",
      "    Find indices where elements should be inserted to maintain order.\n",
      "numpy.sort_complex\n",
      "    Sort a complex array using the real part first, then the imaginary part.\n",
      "numpy.unique\n",
      "    Find the unique elements of an array.\n",
      "numpy.ma.sort\n",
      "    Return a sorted copy of the masked array.\n",
      "numpy.union1d\n",
      "    Find the union of two arrays.\n",
      "numpy.Bytes0.sort\n",
      "    Scalar method identical to the corresponding array attribute.\n",
      "numpy.setxor1d\n",
      "    Find the set exclusive-or of two arrays.\n",
      "numpy.ma.argsort\n",
      "    Return an ndarray of indices that sort the array along the\n",
      "numpy.Bytes0.argsort\n",
      "    Scalar method identical to the corresponding array attribute.\n",
      "numpy.intersect1d\n",
      "    Find the intersection of two arrays.\n",
      "numpy.chararray.sort\n",
      "    Sort an array in-place. Refer to `numpy.sort` for full documentation.\n",
      "numpy.matrix.argsort\n",
      "    Returns the indices that would sort this array.\n",
      "numpy.chararray.argsort\n",
      "    Returns the indices that would sort this array.\n",
      "numpy.Bytes0.searchsorted\n",
      "    Scalar method identical to the corresponding array attribute.\n",
      "numpy.chararray.searchsorted\n",
      "    Find indices where elements of v should be inserted in a to maintain order.\n",
      "numpy.ma.MaskedArray.sort\n",
      "    Sort the array, in-place\n",
      "numpy.ma.MaskedArray.argsort\n",
      "    Return an ndarray of indices that sort the array along the\n",
      "numpy.core._multiarray_umath.lexsort\n",
      "    Perform an indirect stable sort using a sequence of keys.\n",
      "numpy.savez\n",
      "    Save several arrays into a single file in uncompressed ``.npz`` format.\n",
      "numpy.split\n",
      "    Split an array into multiple sub-arrays as views into `ary`.\n",
      "numpy.geterr\n",
      "    Get the current way of handling floating-point errors.\n",
      "numpy.interp\n",
      "    One-dimensional linear interpolation.\n",
      "numpy.median\n",
      "    Compute the median along the specified axis.\n",
      "numpy.lookfor\n",
      "    Do a keyword search on docstrings.\n",
      "numpy.digitize\n",
      "    Return the indices of the bins to which each value in input array belongs.\n",
      "numpy.errstate\n",
      "    errstate(**kwargs)\n",
      "numpy.quantile\n",
      "    Compute the q-th quantile of the data along the specified axis.\n",
      "numpy.chararray\n",
      "    chararray(shape, itemsize=1, unicode=False, buffer=None, offset=0,\n",
      "numpy.histogram\n",
      "    Compute the histogram of a set of data.\n",
      "numpy.nanmedian\n",
      "    Compute the median along the specified axis, while ignoring NaNs.\n",
      "numpy.partition\n",
      "    Return a partitioned copy of an array.\n",
      "numpy.setdiff1d\n",
      "    Find the set difference of two arrays.\n",
      "numpy.transpose\n",
      "    Reverse or permute the axes of an array; returns the modified array.\n",
      "numpy.percentile\n",
      "    Compute the q-th percentile of the data along the specified axis.\n",
      "numpy.seterrcall\n",
      "    Set the floating-point error callback function or log object.\n",
      "numpy.argpartition\n",
      "    Perform an indirect partition along the given axis using the\n",
      "numpy.nanpercentile\n",
      "    Compute the qth percentile of the data along the specified axis,\n",
      "numpy.busdaycalendar\n",
      "    A business day calendar object that efficiently stores information\n",
      "numpy.put_along_axis\n",
      "    Put values into the destination array by matching 1d index and data slices.\n",
      "numpy.ma.median\n",
      "    Compute the median along the specified axis.\n",
      "numpy.take_along_axis\n",
      "    Take values from the input array by matching 1d index and data slices.\n",
      "numpy.linalg.svd\n",
      "    Singular Value Decomposition.\n",
      "numpy.apply_along_axis\n",
      "    Apply a function to 1-D slices along the given axis.\n",
      "numpy.matrix.partition\n",
      "    Rearranges the elements in the array in such a way that the value of the\n",
      "numpy.distutils.ccompiler_opt.CCompilerOpt.feature_sorted\n",
      "    Sort a list of CPU features ordered by the lowest interest.\n",
      "numpy.ma.apply_along_axis\n",
      "    Apply a function to 1-D slices along the given axis.\n",
      "numpy.distutils.ccompiler_opt.CCompilerOpt.feature_detect\n",
      "    Return a list of CPU features that required to be detected\n",
      "numpy.core.tests.test_conversion_utils.TestSortkindConverter\n",
      "    Tests of PyArray_SortkindConverter\n",
      "numpy.distutils.ccompiler_opt.CCompilerOpt.feature_get_til\n",
      "    same as `feature_implies_c()` but stop collecting implied\n",
      "numpy.random.Generator.f\n",
      "    Draw samples from an F distribution.\n",
      "numpy.distutils.ccompiler_opt.CCompilerOpt._parse_policy_keepsort\n",
      "    leave a notice that $keep_sort is on\n",
      "numpy.ma.flatnotmasked_contiguous\n",
      "    Find contiguous unmasked data in a masked array along the given axis.\n",
      "numpy.random.RandomState.f\n",
      "    Draw samples from an F distribution.\n",
      "numpy.distutils.ccompiler_opt.CCompilerOpt._parse_policy_not_keepsort\n",
      "    sorted depend on the highest interest\n",
      "numpy.lib.recfunctions.join_by\n",
      "    Join arrays `r1` and `r2` on key `key`.\n",
      "numpy.ma.MaskedArray.partition\n",
      "    Rearranges the elements in the array in such a way that the value of the\n",
      "numpy.distutils.ccompiler_opt._Parse\n",
      "    A helper class that parsing main arguments of `CCompilerOpt`,\n",
      "numpy.distutils.ccompiler_opt._Config\n",
      "    An abstract class holds all configurable attributes of `CCompilerOpt`,\n",
      "numpy.distutils.command.develop.develop._get_all_ns_packages\n",
      "    Return sorted list of all package namespaces\n",
      "numpy.distutils.ccompiler_opt.CCompilerOpt.feature_ahead\n",
      "    Return list of features in 'names' after remove any\n",
      "numpy.distutils.ccompiler_opt.CCompilerOpt.parse_targets\n",
      "    Fetch and parse configuration statements that required for\n",
      "numpy.distutils.ccompiler_opt.CCompilerOpt.feature_untied\n",
      "    same as 'feature_ahead()' but if both features implied each other\n",
      "numpy.distutils.ccompiler_opt.CCompilerOpt.cc_normalize_flags\n",
      "    Remove the conflicts that caused due gathering implied features flags."
     ]
    }
   ],
   "source": [
    "np.lookfor('sort')"
   ]
  },
  {
   "cell_type": "code",
   "execution_count": 15,
   "metadata": {},
   "outputs": [
    {
     "data": {
      "text/plain": [
       "array([[90.],\n",
       "       [75.]])"
      ]
     },
     "execution_count": 15,
     "metadata": {},
     "output_type": "execute_result"
    }
   ],
   "source": [
    "[y, x] = mystudentData.shape\n",
    "mystudentData[2:y,3:x]"
   ]
  },
  {
   "cell_type": "code",
   "execution_count": 28,
   "metadata": {},
   "outputs": [],
   "source": [
    "mystudentData = np.append(mystudentData, [[45],[50],[40],[90]], axis=1)"
   ]
  },
  {
   "cell_type": "code",
   "execution_count": 33,
   "metadata": {},
   "outputs": [
    {
     "name": "stdout",
     "output_type": "stream",
     "text": [
      "normal\n",
      " [[70. 75. 80. 30. 45.]\n",
      " [75. 80. 90. 68. 50.]\n",
      " [65. 77. 60. 90. 40.]\n",
      " [40. 60. 55. 75. 90.]]\n",
      "Reshape\n",
      " [[70. 75.]\n",
      " [80. 30.]\n",
      " [45. 75.]\n",
      " [80. 90.]\n",
      " [68. 50.]\n",
      " [65. 77.]\n",
      " [60. 90.]\n",
      " [40. 40.]\n",
      " [60. 55.]\n",
      " [75. 90.]]\n",
      "Resize\n",
      " [[70. 75. 80. 30.]\n",
      " [45. 75. 80. 90.]\n",
      " [68. 50. 65. 77.]\n",
      " [60. 90. 40. 40.]\n",
      " [60. 55. 75. 90.]]\n"
     ]
    }
   ],
   "source": [
    "newReshape = np.reshape(mystudentData,(10,2))\n",
    "newResize = np.resize(mystudentData,(5,4))\n",
    "print('normal\\n',mystudentData)\n",
    "print('Reshape\\n',newReshape)\n",
    "print('Resize\\n',newResize)"
   ]
  },
  {
   "cell_type": "code",
   "execution_count": null,
   "metadata": {},
   "outputs": [],
   "source": []
  }
 ],
 "metadata": {
  "colab": {
   "collapsed_sections": [],
   "name": "Kampus Merdeka session 4.ipynb",
   "provenance": []
  },
  "kernelspec": {
   "display_name": "Python 3",
   "language": "python",
   "name": "python3"
  },
  "language_info": {
   "codemirror_mode": {
    "name": "ipython",
    "version": 3
   },
   "file_extension": ".py",
   "mimetype": "text/x-python",
   "name": "python",
   "nbconvert_exporter": "python",
   "pygments_lexer": "ipython3",
   "version": "3.8.8"
  }
 },
 "nbformat": 4,
 "nbformat_minor": 1
}
